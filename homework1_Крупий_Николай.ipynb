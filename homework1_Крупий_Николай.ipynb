{
  "nbformat": 4,
  "nbformat_minor": 0,
  "metadata": {
    "anaconda-cloud": {},
    "kernelspec": {
      "display_name": "Python 3",
      "language": "python",
      "name": "python3"
    },
    "language_info": {
      "codemirror_mode": {
        "name": "ipython",
        "version": 3
      },
      "file_extension": ".py",
      "mimetype": "text/x-python",
      "name": "python",
      "nbconvert_exporter": "python",
      "pygments_lexer": "ipython3",
      "version": "3.5.2"
    },
    "colab": {
      "name": "homework1_Крупий_Николай.ipynb",
      "provenance": [],
      "collapsed_sections": [],
      "include_colab_link": true
    }
  },
  "cells": [
    {
      "cell_type": "markdown",
      "metadata": {
        "id": "view-in-github",
        "colab_type": "text"
      },
      "source": [
        "<a href=\"https://colab.research.google.com/github/nkrupiy/scratches/blob/master/homework1_%D0%9A%D1%80%D1%83%D0%BF%D0%B8%D0%B9_%D0%9D%D0%B8%D0%BA%D0%BE%D0%BB%D0%B0%D0%B9.ipynb\" target=\"_parent\"><img src=\"https://colab.research.google.com/assets/colab-badge.svg\" alt=\"Open In Colab\"/></a>"
      ]
    },
    {
      "cell_type": "markdown",
      "metadata": {
        "id": "aA-CXau6sGqi"
      },
      "source": [
        "# Задачи из \"Занятие 1, основу numpy, pandas, matplotlib.ipynb\""
      ]
    },
    {
      "cell_type": "markdown",
      "metadata": {
        "id": "ZYcKnimkFRrD"
      },
      "source": [
        "## Задание 1\n",
        "\n",
        "Создайте массив массив из 100 элементов (от 1 до 100), переформатируйте в формат (10 * 10), сделайте слайсинг с шагом 2 по каждой оси."
      ]
    },
    {
      "cell_type": "code",
      "metadata": {
        "colab": {
          "base_uri": "https://localhost:8080/"
        },
        "id": "fRlLmZqCjocU",
        "outputId": "b082a14f-3c2c-4bf4-c810-726b12e1b41e"
      },
      "source": [
        "np.array(range(1, 101)).T.reshape(10, 10)[::2,::2]"
      ],
      "execution_count": 323,
      "outputs": [
        {
          "output_type": "execute_result",
          "data": {
            "text/plain": [
              "array([[ 1,  3,  5,  7,  9],\n",
              "       [21, 23, 25, 27, 29],\n",
              "       [41, 43, 45, 47, 49],\n",
              "       [61, 63, 65, 67, 69],\n",
              "       [81, 83, 85, 87, 89]])"
            ]
          },
          "metadata": {
            "tags": []
          },
          "execution_count": 323
        }
      ]
    },
    {
      "cell_type": "markdown",
      "metadata": {
        "id": "SrI3heKeV7nP"
      },
      "source": [
        "## Задание 2\n",
        "\n",
        "Написать функцию, которая по заданной длине последовательности находит среднее арифметическое ее членов.\n",
        "\n",
        "Реализуйте задачу с и без помощи numpy, сравните время выполнения"
      ]
    },
    {
      "cell_type": "code",
      "metadata": {
        "colab": {
          "base_uri": "https://localhost:8080/"
        },
        "id": "U2RQCPo0lkop",
        "outputId": "2b8900aa-1c1b-49bb-9bb2-d1cd4fbc8e07"
      },
      "source": [
        "dlina_posl = 100_000_000\n",
        "def avg_pos(a):\n",
        "  sum = 0\n",
        "  pos = range(a)\n",
        "  for i in pos: sum += i\n",
        "  return sum / len(pos)\n",
        "%time avg_pos(dlina_posl)"
      ],
      "execution_count": 206,
      "outputs": [
        {
          "output_type": "stream",
          "text": [
            "CPU times: user 6.8 s, sys: 6.17 ms, total: 6.8 s\n",
            "Wall time: 6.82 s\n"
          ],
          "name": "stdout"
        },
        {
          "output_type": "execute_result",
          "data": {
            "text/plain": [
              "49999999.5"
            ]
          },
          "metadata": {
            "tags": []
          },
          "execution_count": 206
        }
      ]
    },
    {
      "cell_type": "code",
      "metadata": {
        "colab": {
          "base_uri": "https://localhost:8080/"
        },
        "id": "ZzauDuXrmlMN",
        "outputId": "327724f5-b228-4cc4-efa7-3dba621d3f1a"
      },
      "source": [
        "dlina_posl = 100_000_000\n",
        "def np_avg_pos(a):\n",
        "  pos = np.array(range(a))\n",
        "  sum = pos.sum()\n",
        "  return sum / len(pos)\n",
        "%time np_avg_pos(dlina_posl)\n",
        "# 🤔 тут, наверное, что-то не так, т.к. получилось медленее..."
      ],
      "execution_count": 207,
      "outputs": [
        {
          "output_type": "stream",
          "text": [
            "CPU times: user 14.6 s, sys: 4.78 s, total: 19.4 s\n",
            "Wall time: 19.4 s\n"
          ],
          "name": "stdout"
        },
        {
          "output_type": "execute_result",
          "data": {
            "text/plain": [
              "49999999.5"
            ]
          },
          "metadata": {
            "tags": []
          },
          "execution_count": 207
        }
      ]
    },
    {
      "cell_type": "markdown",
      "metadata": {
        "id": "aF_IhXzJFWzJ"
      },
      "source": [
        "## Задание 3\n",
        "\n",
        "Задан Series объект s, найти индекс первого элемента отсортированного s, где значения больше 5"
      ]
    },
    {
      "cell_type": "code",
      "metadata": {
        "colab": {
          "base_uri": "https://localhost:8080/"
        },
        "id": "p7_a4d1EoRjF",
        "outputId": "2db88d31-edb2-4e62-bd0f-5a8f2b6ffcd5"
      },
      "source": [
        "# задано изначально\n",
        "import numpy as np, pandas as pd\n",
        "r = np.random.RandomState(1)\n",
        "s=pd.Series(r.uniform(0, 10, 100))\n",
        "\n",
        "# # debug:\n",
        "# s = pd.Series([1, 3, 0, 5.1, 6, 5, 7])\n",
        "\n",
        "# Solution:\n",
        "s = np.sort(s)\n",
        "# s = s.sort_values()\n",
        "more5_s = s[s > 5][0]\n",
        "# more5_s, s\n",
        "pd.Index(s).get_loc(more5_s)"
      ],
      "execution_count": 322,
      "outputs": [
        {
          "output_type": "execute_result",
          "data": {
            "text/plain": [
              "51"
            ]
          },
          "metadata": {
            "tags": []
          },
          "execution_count": 322
        }
      ]
    },
    {
      "cell_type": "markdown",
      "metadata": {
        "id": "lK7mPJPRWcs2"
      },
      "source": [
        "## Задание 4\n",
        "\n",
        "Предположим, что мы наблюдаем за некоторым признаком нашего датасета, но в данных есть пропуски. Ваша задача: реализовать алгоритм заполнения пропущенных значений последним известным с помощью средств python и pandas. (подсказка: вам может помочь функция np.isnan(), которая возвращает True, если число - nan. Для реализации с пандас стоит посмотреть на метод .fillna).\n",
        "\n",
        "Изначальный код с инициализацией такого датасета предоставлен."
      ]
    },
    {
      "cell_type": "code",
      "metadata": {
        "id": "CxMRDP2HtXEG"
      },
      "source": [
        "df.fillna?"
      ],
      "execution_count": 226,
      "outputs": []
    },
    {
      "cell_type": "code",
      "metadata": {
        "colab": {
          "base_uri": "https://localhost:8080/",
          "height": 524
        },
        "id": "zyLd3johsS-f",
        "outputId": "ea80d0c4-3149-48ee-a66b-e6f14958309e"
      },
      "source": [
        "# импортируем библиотеку для создания шума\n",
        "import random\n",
        "# библиотека для визуализации\n",
        "import matplotlib.pyplot as plt\n",
        "\n",
        "# создадим наши данные и добавим к каждой точке синусоиды случайный шум\n",
        "a = np.linspace(0, 25, 100)\n",
        "a = np.sin(a) + [random.gauss(0, 0.2) for i in range(len(a))]\n",
        "\n",
        "# создадим 10 случайных пропусков\n",
        "for i in range(10):\n",
        "    a[random.randint(0, len(a) - 1)] = None\n",
        "# создадим датафрейм\n",
        "df = pd.DataFrame({'target':a})\n",
        "\n",
        "# ваш код тут\n",
        "df.fillna(method='ffill', inplace=True)\n",
        "\n",
        "# отобразим\n",
        "df, plt.plot(df.target.values)"
      ],
      "execution_count": 228,
      "outputs": [
        {
          "output_type": "execute_result",
          "data": {
            "text/plain": [
              "(      target\n",
              " 0   0.012837\n",
              " 1   0.333588\n",
              " 2   0.333588\n",
              " 3   0.350548\n",
              " 4   0.765417\n",
              " ..       ...\n",
              " 95 -0.655449\n",
              " 96 -0.851679\n",
              " 97 -0.706409\n",
              " 98 -0.273000\n",
              " 99 -0.508938\n",
              " \n",
              " [100 rows x 1 columns], [<matplotlib.lines.Line2D at 0x7efcf1b21990>])"
            ]
          },
          "metadata": {
            "tags": []
          },
          "execution_count": 228
        },
        {
          "output_type": "display_data",
          "data": {
            "image/png": "[encoded data removed]",
            "text/plain": [
              "<Figure size 432x288 with 1 Axes>"
            ]
          },
          "metadata": {
            "tags": [],
            "needs_background": "light"
          }
        }
      ]
    },
    {
      "cell_type": "markdown",
      "metadata": {
        "id": "5gYj1TeyW9Aq"
      },
      "source": [
        "## Задание 5\n",
        "\n",
        "Имеется небольшой игрушечный датафрейм, в котором необходимо провести несколько типов фильтраций (ответы ищите в решениях) и отобразить результат:\n",
        "\n",
        "* всех, кто старше 40\n",
        "* всех, кто имеет доход выше среднего по датасету\n",
        "* всех, кто имеет доход выше среднего по датасету, но надежность ниже среднего по датасету\n",
        "\n",
        "создать новые столбцы:\n",
        "\n",
        "* важность клиента = доход * надежность\n",
        "* возможная долгосрочность клиента = важность клиента * (средний возраст по датасету - возраст клиента)\n",
        "\n",
        "`подсказка: двойные условия записываются так: (условие 1) & (условие 2)`\n",
        "\n",
        "\n",
        "** примечание: столбцы не имеют отношения к реальным формулам или моделям, они необходимы только для наглядности"
      ]
    },
    {
      "cell_type": "code",
      "metadata": {
        "colab": {
          "base_uri": "https://localhost:8080/"
        },
        "id": "nsZGnKzmuljY",
        "outputId": "465d1da5-9a88-4ec7-d4e9-79e070bdb09a"
      },
      "source": [
        "# создадим тестовый датасет\n",
        "df = pd.DataFrame({\n",
        "    'имя': ['Петя', 'Вася', 'Аня', 'Света'],\n",
        "    'возраст': [45, 26, 41 , 21],\n",
        "    'доход': [100000, 80000, 150000, 60000],\n",
        "    'надежность клиента (0..1)': [0.65, 0.74, 0.87, 0.68],\n",
        "    'пол': ['муж', 'муж', 'жен', 'жен']},\n",
        "    index=[0, 1, 2, 3])\n",
        "\n",
        "# ваш код тут\n",
        "from pprint import pprint\n",
        "pprint(\n",
        "    list(enumerate((\n",
        "      df,\n",
        "      df[df['возраст']>40],\n",
        "      df[df['доход']>df['доход'].mean()],\n",
        "      df[(df['доход']>df['доход'].mean()) &\n",
        "        (df['надежность клиента (0..1)']>df['надежность клиента (0..1)'].mean())\n",
        "      ],\n",
        "    ), 1)),\n",
        ")"
      ],
      "execution_count": 280,
      "outputs": [
        {
          "output_type": "stream",
          "text": [
            "[(1,\n",
            "       имя  возраст   доход  надежность клиента (0..1)  пол\n",
            "0   Петя       45  100000                       0.65  муж\n",
            "1   Вася       26   80000                       0.74  муж\n",
            "2    Аня       41  150000                       0.87  жен\n",
            "3  Света       21   60000                       0.68  жен),\n",
            " (2,\n",
            "      имя  возраст   доход  надежность клиента (0..1)  пол\n",
            "0  Петя       45  100000                       0.65  муж\n",
            "2   Аня       41  150000                       0.87  жен),\n",
            " (3,\n",
            "      имя  возраст   доход  надежность клиента (0..1)  пол\n",
            "0  Петя       45  100000                       0.65  муж\n",
            "2   Аня       41  150000                       0.87  жен),\n",
            " (4,\n",
            "     имя  возраст   доход  надежность клиента (0..1)  пол\n",
            "2  Аня       41  150000                       0.87  жен)]\n"
          ],
          "name": "stdout"
        }
      ]
    },
    {
      "cell_type": "code",
      "metadata": {
        "colab": {
          "base_uri": "https://localhost:8080/",
          "height": 175
        },
        "id": "oJl9nRfmwg5R",
        "outputId": "39e568e8-7ea3-4387-fc60-40e27263402f"
      },
      "source": [
        "df['важность клиента'] = df['доход'] * df['надежность клиента (0..1)']\n",
        "df['возможная долгосрочность клиента'] = df['важность клиента'] * (\n",
        "    df['возраст'].mean() - df['возраст']\n",
        ") # *  = важность клиента * (средний возраст по датасету - возраст клиента\n",
        "df"
      ],
      "execution_count": 253,
      "outputs": [
        {
          "output_type": "execute_result",
          "data": {
            "text/html": [
              "<div>\n",
              "<style scoped>\n",
              "    .dataframe tbody tr th:only-of-type {\n",
              "        vertical-align: middle;\n",
              "    }\n",
              "\n",
              "    .dataframe tbody tr th {\n",
              "        vertical-align: top;\n",
              "    }\n",
              "\n",
              "    .dataframe thead th {\n",
              "        text-align: right;\n",
              "    }\n",
              "</style>\n",
              "<table border=\"1\" class=\"dataframe\">\n",
              "  <thead>\n",
              "    <tr style=\"text-align: right;\">\n",
              "      <th></th>\n",
              "      <th>имя</th>\n",
              "      <th>возраст</th>\n",
              "      <th>доход</th>\n",
              "      <th>надежность клиента (0..1)</th>\n",
              "      <th>пол</th>\n",
              "      <th>важность клиента</th>\n",
              "      <th>возможная долгосрочность клиента</th>\n",
              "    </tr>\n",
              "  </thead>\n",
              "  <tbody>\n",
              "    <tr>\n",
              "      <th>0</th>\n",
              "      <td>Петя</td>\n",
              "      <td>45</td>\n",
              "      <td>100000</td>\n",
              "      <td>0.65</td>\n",
              "      <td>муж</td>\n",
              "      <td>65000.0</td>\n",
              "      <td>-763750.0</td>\n",
              "    </tr>\n",
              "    <tr>\n",
              "      <th>1</th>\n",
              "      <td>Вася</td>\n",
              "      <td>26</td>\n",
              "      <td>80000</td>\n",
              "      <td>0.74</td>\n",
              "      <td>муж</td>\n",
              "      <td>59200.0</td>\n",
              "      <td>429200.0</td>\n",
              "    </tr>\n",
              "    <tr>\n",
              "      <th>2</th>\n",
              "      <td>Аня</td>\n",
              "      <td>41</td>\n",
              "      <td>150000</td>\n",
              "      <td>0.87</td>\n",
              "      <td>жен</td>\n",
              "      <td>130500.0</td>\n",
              "      <td>-1011375.0</td>\n",
              "    </tr>\n",
              "    <tr>\n",
              "      <th>3</th>\n",
              "      <td>Света</td>\n",
              "      <td>21</td>\n",
              "      <td>60000</td>\n",
              "      <td>0.68</td>\n",
              "      <td>жен</td>\n",
              "      <td>40800.0</td>\n",
              "      <td>499800.0</td>\n",
              "    </tr>\n",
              "  </tbody>\n",
              "</table>\n",
              "</div>"
            ],
            "text/plain": [
              "     имя  возраст  ...  важность клиента  возможная долгосрочность клиента\n",
              "0   Петя       45  ...           65000.0                         -763750.0\n",
              "1   Вася       26  ...           59200.0                          429200.0\n",
              "2    Аня       41  ...          130500.0                        -1011375.0\n",
              "3  Света       21  ...           40800.0                          499800.0\n",
              "\n",
              "[4 rows x 7 columns]"
            ]
          },
          "metadata": {
            "tags": []
          },
          "execution_count": 253
        }
      ]
    },
    {
      "cell_type": "markdown",
      "metadata": {
        "id": "MxFoJ2LubuYU"
      },
      "source": [
        "## Задание 6\n",
        "\n",
        "Посмотрите на блок Exploratory data analysis, используйте данные, кототрые вы загрузили в ходе его освоения. Ваша задача - вывести имена всех выживших детей и их количество"
      ]
    },
    {
      "cell_type": "code",
      "metadata": {
        "colab": {
          "base_uri": "https://localhost:8080/",
          "height": 143
        },
        "id": "w3NfFg3_xcQb",
        "outputId": "aea95024-3981-462e-ef61-e747d6dae5de"
      },
      "source": [
        "data = pd.read_csv('https://web.stanford.edu/class/archive/cs/cs109/cs109.1166/stuff/titanic.csv')\n",
        "data.head(3)"
      ],
      "execution_count": 255,
      "outputs": [
        {
          "output_type": "execute_result",
          "data": {
            "text/html": [
              "<div>\n",
              "<style scoped>\n",
              "    .dataframe tbody tr th:only-of-type {\n",
              "        vertical-align: middle;\n",
              "    }\n",
              "\n",
              "    .dataframe tbody tr th {\n",
              "        vertical-align: top;\n",
              "    }\n",
              "\n",
              "    .dataframe thead th {\n",
              "        text-align: right;\n",
              "    }\n",
              "</style>\n",
              "<table border=\"1\" class=\"dataframe\">\n",
              "  <thead>\n",
              "    <tr style=\"text-align: right;\">\n",
              "      <th></th>\n",
              "      <th>Survived</th>\n",
              "      <th>Pclass</th>\n",
              "      <th>Name</th>\n",
              "      <th>Sex</th>\n",
              "      <th>Age</th>\n",
              "      <th>Siblings/Spouses Aboard</th>\n",
              "      <th>Parents/Children Aboard</th>\n",
              "      <th>Fare</th>\n",
              "    </tr>\n",
              "  </thead>\n",
              "  <tbody>\n",
              "    <tr>\n",
              "      <th>0</th>\n",
              "      <td>0</td>\n",
              "      <td>3</td>\n",
              "      <td>Mr. Owen Harris Braund</td>\n",
              "      <td>male</td>\n",
              "      <td>22.0</td>\n",
              "      <td>1</td>\n",
              "      <td>0</td>\n",
              "      <td>7.2500</td>\n",
              "    </tr>\n",
              "    <tr>\n",
              "      <th>1</th>\n",
              "      <td>1</td>\n",
              "      <td>1</td>\n",
              "      <td>Mrs. John Bradley (Florence Briggs Thayer) Cum...</td>\n",
              "      <td>female</td>\n",
              "      <td>38.0</td>\n",
              "      <td>1</td>\n",
              "      <td>0</td>\n",
              "      <td>71.2833</td>\n",
              "    </tr>\n",
              "    <tr>\n",
              "      <th>2</th>\n",
              "      <td>1</td>\n",
              "      <td>3</td>\n",
              "      <td>Miss. Laina Heikkinen</td>\n",
              "      <td>female</td>\n",
              "      <td>26.0</td>\n",
              "      <td>0</td>\n",
              "      <td>0</td>\n",
              "      <td>7.9250</td>\n",
              "    </tr>\n",
              "  </tbody>\n",
              "</table>\n",
              "</div>"
            ],
            "text/plain": [
              "   Survived  Pclass  ... Parents/Children Aboard     Fare\n",
              "0         0       3  ...                       0   7.2500\n",
              "1         1       1  ...                       0  71.2833\n",
              "2         1       3  ...                       0   7.9250\n",
              "\n",
              "[3 rows x 8 columns]"
            ]
          },
          "metadata": {
            "tags": []
          },
          "execution_count": 255
        }
      ]
    },
    {
      "cell_type": "code",
      "metadata": {
        "colab": {
          "base_uri": "https://localhost:8080/"
        },
        "id": "I_aAZ6wNxowi",
        "outputId": "86244168-9dd0-496f-cf06-bc5fd67ca68d"
      },
      "source": [
        "survived_children_df = data[(data['Age'] < 18) & (data['Survived'] == 1)]\n",
        "print(\"Total: %s\\n\" % survived_children_df['Survived'].count(),\n",
        "      survived_children_df['Name'])"
      ],
      "execution_count": 273,
      "outputs": [
        {
          "output_type": "stream",
          "text": [
            "Total: 65\n",
            " 9           Mrs. Nicholas (Adele Achem) Nasser\n",
            "10              Miss. Marguerite Rut Sandstrom\n",
            "22                          Miss. Anna McGowan\n",
            "39                  Miss. Jamila Nicola-Yarred\n",
            "42     Miss. Simonne Marie Anne Andree Laroche\n",
            "                        ...                   \n",
            "826     Mrs. Antoni (Selini Alexander) Yasbeck\n",
            "827             Master. George Sibley Richards\n",
            "849                   Miss. Mary Conover Lines\n",
            "865             Master. Harold Theodor Johnson\n",
            "871                   Miss. Adele Kiamie Najib\n",
            "Name: Name, Length: 65, dtype: object\n"
          ],
          "name": "stdout"
        }
      ]
    },
    {
      "cell_type": "markdown",
      "metadata": {
        "id": "V-DqrxK-AnBi"
      },
      "source": [
        "## Домашнее задание 1\n",
        "### Основы Python и пакет NumPy\n",
        "---\n"
      ]
    },
    {
      "cell_type": "code",
      "metadata": {
        "id": "3VqwHt5UAnB9"
      },
      "source": [
        "import numpy as np\n",
        "import random\n",
        "import scipy.stats as sps"
      ],
      "execution_count": 1,
      "outputs": []
    },
    {
      "cell_type": "markdown",
      "metadata": {
        "id": "3eOSpcEDAnCF"
      },
      "source": [
        "### Задача 1\n",
        "В первой задаче вам предлагается перемножить две матрицы двумя способами -- без использования пакета ***numpy*** и с ним. Использовать матричное произведение."
      ]
    },
    {
      "cell_type": "code",
      "metadata": {
        "id": "EiOPtQkuAnCJ",
        "colab": {
          "base_uri": "https://localhost:8080/"
        },
        "outputId": "e242bd58-7003-4337-d5c3-4bb872027f23"
      },
      "source": [
        "# Для генерации матриц используем фукнцию random -- она используется для генерации случайных объектов \n",
        "# функция sample создает случайную выборку. В качестве аргумента ей передается кортеж (i,j), здесь i -- число строк,\n",
        "# j -- число столбцов.\n",
        "a = np.random.sample((100,1000))\n",
        "b = np.random.sample((1000,100))\n",
        "\n",
        "# выведите размерность (ранг) каждой матрицы с помощью функции ndim.\n",
        "# Используйте функцию shape, что она вывела?\n",
        "# ========\n",
        "(\n",
        "a.ndim, a.shape,\n",
        "b.ndim, b.shape,\n",
        ")\n",
        "# ========"
      ],
      "execution_count": 334,
      "outputs": [
        {
          "output_type": "execute_result",
          "data": {
            "text/plain": [
              "(2, (100, 1000), 2, (1000, 100))"
            ]
          },
          "metadata": {
            "tags": []
          },
          "execution_count": 334
        }
      ]
    },
    {
      "cell_type": "code",
      "metadata": {
        "id": "oWMcUuWIAnCL",
        "colab": {
          "base_uri": "https://localhost:8080/"
        },
        "outputId": "7ff47ed8-2d91-4bee-9ef9-d699db1ee52b"
      },
      "source": [
        "A, B = [1, 2, 3], [4, 5, 6]\n",
        "def mult(a, b):\n",
        "    # здесь напишите перемножение матриц без \n",
        "    # использования NumPy и выведите результат\n",
        "    res, A, B = 0, list(a), list(b)\n",
        "    for i in range(len(A)): res += A[i] * B[i]\n",
        "    # res = 0\n",
        "    # for i in range(len(a)): res += a[i] * b[i]\n",
        "    return res\n",
        "  \n",
        "A, B, mult(A, B)"
      ],
      "execution_count": 331,
      "outputs": [
        {
          "output_type": "execute_result",
          "data": {
            "text/plain": [
              "([1, 2, 3], [4, 5, 6], 32)"
            ]
          },
          "metadata": {
            "tags": []
          },
          "execution_count": 331
        }
      ]
    },
    {
      "cell_type": "code",
      "metadata": {
        "id": "4zF2-t_xAnCN",
        "colab": {
          "base_uri": "https://localhost:8080/"
        },
        "outputId": "8c639401-42cc-4402-944b-5e457230e788"
      },
      "source": [
        "def np_mult(a, b):\n",
        "    # здесь напишите перемножение матриц с\n",
        "    # использованием NumPy и выведите результат\n",
        "    return np.dot(a, b) # a @ b\n",
        "\n",
        "A, B, np_mult(A, B)"
      ],
      "execution_count": 159,
      "outputs": [
        {
          "output_type": "execute_result",
          "data": {
            "text/plain": [
              "([1, 2, 3], [4, 5, 6], 32)"
            ]
          },
          "metadata": {
            "tags": []
          },
          "execution_count": 159
        }
      ]
    },
    {
      "cell_type": "code",
      "metadata": {
        "id": "ciq5vZCzAnCQ",
        "colab": {
          "base_uri": "https://localhost:8080/",
          "height": 376
        },
        "outputId": "48b43ea3-1b0c-4a2e-b406-a72b8728360b"
      },
      "source": [
        "# Превратим матрицы в листы, чтобы протестировать функцию без np\n",
        "a_list = [[x for x in row] for row in a]\n",
        "b_list = [[x for x in row] for row in b]\n",
        "# a, b, \\\n",
        "# a_list, b_list"
      ],
      "execution_count": 333,
      "outputs": [
        {
          "output_type": "error",
          "ename": "TypeError",
          "evalue": "ignored",
          "traceback": [
            "\u001b[0;31m---------------------------------------------------------------------------\u001b[0m",
            "\u001b[0;31mTypeError\u001b[0m                                 Traceback (most recent call last)",
            "\u001b[0;32m<ipython-input-333-cf3996729ad5>\u001b[0m in \u001b[0;36m<module>\u001b[0;34m()\u001b[0m\n\u001b[1;32m      1\u001b[0m \u001b[0;31m# Превратим матрицы в листы, чтобы протестировать функцию без np\u001b[0m\u001b[0;34m\u001b[0m\u001b[0;34m\u001b[0m\u001b[0;34m\u001b[0m\u001b[0m\n\u001b[0;32m----> 2\u001b[0;31m \u001b[0ma_list\u001b[0m \u001b[0;34m=\u001b[0m \u001b[0;34m[\u001b[0m\u001b[0;34m[\u001b[0m\u001b[0mx\u001b[0m \u001b[0;32mfor\u001b[0m \u001b[0mx\u001b[0m \u001b[0;32min\u001b[0m \u001b[0mrow\u001b[0m\u001b[0;34m]\u001b[0m \u001b[0;32mfor\u001b[0m \u001b[0mrow\u001b[0m \u001b[0;32min\u001b[0m \u001b[0ma\u001b[0m\u001b[0;34m]\u001b[0m\u001b[0;34m\u001b[0m\u001b[0;34m\u001b[0m\u001b[0m\n\u001b[0m\u001b[1;32m      3\u001b[0m \u001b[0mb_list\u001b[0m \u001b[0;34m=\u001b[0m \u001b[0;34m[\u001b[0m\u001b[0;34m[\u001b[0m\u001b[0mx\u001b[0m \u001b[0;32mfor\u001b[0m \u001b[0mx\u001b[0m \u001b[0;32min\u001b[0m \u001b[0mrow\u001b[0m\u001b[0;34m]\u001b[0m \u001b[0;32mfor\u001b[0m \u001b[0mrow\u001b[0m \u001b[0;32min\u001b[0m \u001b[0mb\u001b[0m\u001b[0;34m]\u001b[0m\u001b[0;34m\u001b[0m\u001b[0;34m\u001b[0m\u001b[0m\n\u001b[1;32m      4\u001b[0m \u001b[0;31m# a, b, \\\u001b[0m\u001b[0;34m\u001b[0m\u001b[0;34m\u001b[0m\u001b[0;34m\u001b[0m\u001b[0m\n\u001b[1;32m      5\u001b[0m \u001b[0;31m# a_list, b_list\u001b[0m\u001b[0;34m\u001b[0m\u001b[0;34m\u001b[0m\u001b[0;34m\u001b[0m\u001b[0m\n",
            "\u001b[0;32m<ipython-input-333-cf3996729ad5>\u001b[0m in \u001b[0;36m<listcomp>\u001b[0;34m(.0)\u001b[0m\n\u001b[1;32m      1\u001b[0m \u001b[0;31m# Превратим матрицы в листы, чтобы протестировать функцию без np\u001b[0m\u001b[0;34m\u001b[0m\u001b[0;34m\u001b[0m\u001b[0;34m\u001b[0m\u001b[0m\n\u001b[0;32m----> 2\u001b[0;31m \u001b[0ma_list\u001b[0m \u001b[0;34m=\u001b[0m \u001b[0;34m[\u001b[0m\u001b[0;34m[\u001b[0m\u001b[0mx\u001b[0m \u001b[0;32mfor\u001b[0m \u001b[0mx\u001b[0m \u001b[0;32min\u001b[0m \u001b[0mrow\u001b[0m\u001b[0;34m]\u001b[0m \u001b[0;32mfor\u001b[0m \u001b[0mrow\u001b[0m \u001b[0;32min\u001b[0m \u001b[0ma\u001b[0m\u001b[0;34m]\u001b[0m\u001b[0;34m\u001b[0m\u001b[0;34m\u001b[0m\u001b[0m\n\u001b[0m\u001b[1;32m      3\u001b[0m \u001b[0mb_list\u001b[0m \u001b[0;34m=\u001b[0m \u001b[0;34m[\u001b[0m\u001b[0;34m[\u001b[0m\u001b[0mx\u001b[0m \u001b[0;32mfor\u001b[0m \u001b[0mx\u001b[0m \u001b[0;32min\u001b[0m \u001b[0mrow\u001b[0m\u001b[0;34m]\u001b[0m \u001b[0;32mfor\u001b[0m \u001b[0mrow\u001b[0m \u001b[0;32min\u001b[0m \u001b[0mb\u001b[0m\u001b[0;34m]\u001b[0m\u001b[0;34m\u001b[0m\u001b[0;34m\u001b[0m\u001b[0m\n\u001b[1;32m      4\u001b[0m \u001b[0;31m# a, b, \\\u001b[0m\u001b[0;34m\u001b[0m\u001b[0;34m\u001b[0m\u001b[0;34m\u001b[0m\u001b[0m\n\u001b[1;32m      5\u001b[0m \u001b[0;31m# a_list, b_list\u001b[0m\u001b[0;34m\u001b[0m\u001b[0;34m\u001b[0m\u001b[0;34m\u001b[0m\u001b[0m\n",
            "\u001b[0;31mTypeError\u001b[0m: 'numpy.float64' object is not iterable"
          ]
        }
      ]
    },
    {
      "cell_type": "code",
      "metadata": {
        "id": "xhjzXX2J54Ap"
      },
      "source": [
        "# pprint\n",
        "(a_list,\n",
        "       b_list\n",
        ")"
      ],
      "execution_count": null,
      "outputs": []
    },
    {
      "cell_type": "code",
      "metadata": {
        "id": "1x7K53ZVAnCS",
        "colab": {
          "base_uri": "https://localhost:8080/",
          "height": 400
        },
        "outputId": "47b8c431-8e3c-42fa-f11e-c7a4e70ece43"
      },
      "source": [
        "%%time\n",
        "# засечем время работы функции без NumPy\n",
        "mult(a_list, b_list)"
      ],
      "execution_count": 332,
      "outputs": [
        {
          "output_type": "error",
          "ename": "TypeError",
          "evalue": "ignored",
          "traceback": [
            "\u001b[0;31m---------------------------------------------------------------------------\u001b[0m",
            "\u001b[0;31mTypeError\u001b[0m                                 Traceback (most recent call last)",
            "\u001b[0;32m<ipython-input-332-c082050e6ff4>\u001b[0m in \u001b[0;36m<module>\u001b[0;34m()\u001b[0m\n\u001b[0;32m----> 1\u001b[0;31m \u001b[0mget_ipython\u001b[0m\u001b[0;34m(\u001b[0m\u001b[0;34m)\u001b[0m\u001b[0;34m.\u001b[0m\u001b[0mrun_cell_magic\u001b[0m\u001b[0;34m(\u001b[0m\u001b[0;34m'time'\u001b[0m\u001b[0;34m,\u001b[0m \u001b[0;34m''\u001b[0m\u001b[0;34m,\u001b[0m \u001b[0;34m'# засечем время работы функции без NumPy\\nmult(a_list, b_list)'\u001b[0m\u001b[0;34m)\u001b[0m\u001b[0;34m\u001b[0m\u001b[0;34m\u001b[0m\u001b[0m\n\u001b[0m",
            "\u001b[0;32m/usr/local/lib/python3.7/dist-packages/IPython/core/interactiveshell.py\u001b[0m in \u001b[0;36mrun_cell_magic\u001b[0;34m(self, magic_name, line, cell)\u001b[0m\n\u001b[1;32m   2115\u001b[0m             \u001b[0mmagic_arg_s\u001b[0m \u001b[0;34m=\u001b[0m \u001b[0mself\u001b[0m\u001b[0;34m.\u001b[0m\u001b[0mvar_expand\u001b[0m\u001b[0;34m(\u001b[0m\u001b[0mline\u001b[0m\u001b[0;34m,\u001b[0m \u001b[0mstack_depth\u001b[0m\u001b[0;34m)\u001b[0m\u001b[0;34m\u001b[0m\u001b[0;34m\u001b[0m\u001b[0m\n\u001b[1;32m   2116\u001b[0m             \u001b[0;32mwith\u001b[0m \u001b[0mself\u001b[0m\u001b[0;34m.\u001b[0m\u001b[0mbuiltin_trap\u001b[0m\u001b[0;34m:\u001b[0m\u001b[0;34m\u001b[0m\u001b[0;34m\u001b[0m\u001b[0m\n\u001b[0;32m-> 2117\u001b[0;31m                 \u001b[0mresult\u001b[0m \u001b[0;34m=\u001b[0m \u001b[0mfn\u001b[0m\u001b[0;34m(\u001b[0m\u001b[0mmagic_arg_s\u001b[0m\u001b[0;34m,\u001b[0m \u001b[0mcell\u001b[0m\u001b[0;34m)\u001b[0m\u001b[0;34m\u001b[0m\u001b[0;34m\u001b[0m\u001b[0m\n\u001b[0m\u001b[1;32m   2118\u001b[0m             \u001b[0;32mreturn\u001b[0m \u001b[0mresult\u001b[0m\u001b[0;34m\u001b[0m\u001b[0;34m\u001b[0m\u001b[0m\n\u001b[1;32m   2119\u001b[0m \u001b[0;34m\u001b[0m\u001b[0m\n",
            "\u001b[0;32m<decorator-gen-53>\u001b[0m in \u001b[0;36mtime\u001b[0;34m(self, line, cell, local_ns)\u001b[0m\n",
            "\u001b[0;32m/usr/local/lib/python3.7/dist-packages/IPython/core/magic.py\u001b[0m in \u001b[0;36m<lambda>\u001b[0;34m(f, *a, **k)\u001b[0m\n\u001b[1;32m    186\u001b[0m     \u001b[0;31m# but it's overkill for just that one bit of state.\u001b[0m\u001b[0;34m\u001b[0m\u001b[0;34m\u001b[0m\u001b[0;34m\u001b[0m\u001b[0m\n\u001b[1;32m    187\u001b[0m     \u001b[0;32mdef\u001b[0m \u001b[0mmagic_deco\u001b[0m\u001b[0;34m(\u001b[0m\u001b[0marg\u001b[0m\u001b[0;34m)\u001b[0m\u001b[0;34m:\u001b[0m\u001b[0;34m\u001b[0m\u001b[0;34m\u001b[0m\u001b[0m\n\u001b[0;32m--> 188\u001b[0;31m         \u001b[0mcall\u001b[0m \u001b[0;34m=\u001b[0m \u001b[0;32mlambda\u001b[0m \u001b[0mf\u001b[0m\u001b[0;34m,\u001b[0m \u001b[0;34m*\u001b[0m\u001b[0ma\u001b[0m\u001b[0;34m,\u001b[0m \u001b[0;34m**\u001b[0m\u001b[0mk\u001b[0m\u001b[0;34m:\u001b[0m \u001b[0mf\u001b[0m\u001b[0;34m(\u001b[0m\u001b[0;34m*\u001b[0m\u001b[0ma\u001b[0m\u001b[0;34m,\u001b[0m \u001b[0;34m**\u001b[0m\u001b[0mk\u001b[0m\u001b[0;34m)\u001b[0m\u001b[0;34m\u001b[0m\u001b[0;34m\u001b[0m\u001b[0m\n\u001b[0m\u001b[1;32m    189\u001b[0m \u001b[0;34m\u001b[0m\u001b[0m\n\u001b[1;32m    190\u001b[0m         \u001b[0;32mif\u001b[0m \u001b[0mcallable\u001b[0m\u001b[0;34m(\u001b[0m\u001b[0marg\u001b[0m\u001b[0;34m)\u001b[0m\u001b[0;34m:\u001b[0m\u001b[0;34m\u001b[0m\u001b[0;34m\u001b[0m\u001b[0m\n",
            "\u001b[0;32m/usr/local/lib/python3.7/dist-packages/IPython/core/magics/execution.py\u001b[0m in \u001b[0;36mtime\u001b[0;34m(self, line, cell, local_ns)\u001b[0m\n\u001b[1;32m   1187\u001b[0m         \u001b[0;32mif\u001b[0m \u001b[0mmode\u001b[0m\u001b[0;34m==\u001b[0m\u001b[0;34m'eval'\u001b[0m\u001b[0;34m:\u001b[0m\u001b[0;34m\u001b[0m\u001b[0;34m\u001b[0m\u001b[0m\n\u001b[1;32m   1188\u001b[0m             \u001b[0mst\u001b[0m \u001b[0;34m=\u001b[0m \u001b[0mclock2\u001b[0m\u001b[0;34m(\u001b[0m\u001b[0;34m)\u001b[0m\u001b[0;34m\u001b[0m\u001b[0;34m\u001b[0m\u001b[0m\n\u001b[0;32m-> 1189\u001b[0;31m             \u001b[0mout\u001b[0m \u001b[0;34m=\u001b[0m \u001b[0meval\u001b[0m\u001b[0;34m(\u001b[0m\u001b[0mcode\u001b[0m\u001b[0;34m,\u001b[0m \u001b[0mglob\u001b[0m\u001b[0;34m,\u001b[0m \u001b[0mlocal_ns\u001b[0m\u001b[0;34m)\u001b[0m\u001b[0;34m\u001b[0m\u001b[0;34m\u001b[0m\u001b[0m\n\u001b[0m\u001b[1;32m   1190\u001b[0m             \u001b[0mend\u001b[0m \u001b[0;34m=\u001b[0m \u001b[0mclock2\u001b[0m\u001b[0;34m(\u001b[0m\u001b[0;34m)\u001b[0m\u001b[0;34m\u001b[0m\u001b[0;34m\u001b[0m\u001b[0m\n\u001b[1;32m   1191\u001b[0m         \u001b[0;32melse\u001b[0m\u001b[0;34m:\u001b[0m\u001b[0;34m\u001b[0m\u001b[0;34m\u001b[0m\u001b[0m\n",
            "\u001b[0;32m<timed eval>\u001b[0m in \u001b[0;36m<module>\u001b[0;34m()\u001b[0m\n",
            "\u001b[0;32m<ipython-input-331-de8b9d6c6586>\u001b[0m in \u001b[0;36mmult\u001b[0;34m(a, b)\u001b[0m\n\u001b[1;32m      4\u001b[0m     \u001b[0;31m# использования NumPy и выведите результат\u001b[0m\u001b[0;34m\u001b[0m\u001b[0;34m\u001b[0m\u001b[0;34m\u001b[0m\u001b[0m\n\u001b[1;32m      5\u001b[0m     \u001b[0mres\u001b[0m\u001b[0;34m,\u001b[0m \u001b[0mA\u001b[0m\u001b[0;34m,\u001b[0m \u001b[0mB\u001b[0m \u001b[0;34m=\u001b[0m \u001b[0;36m0\u001b[0m\u001b[0;34m,\u001b[0m \u001b[0mlist\u001b[0m\u001b[0;34m(\u001b[0m\u001b[0ma\u001b[0m\u001b[0;34m)\u001b[0m\u001b[0;34m,\u001b[0m \u001b[0mlist\u001b[0m\u001b[0;34m(\u001b[0m\u001b[0mb\u001b[0m\u001b[0;34m)\u001b[0m\u001b[0;34m\u001b[0m\u001b[0;34m\u001b[0m\u001b[0m\n\u001b[0;32m----> 6\u001b[0;31m     \u001b[0;32mfor\u001b[0m \u001b[0mi\u001b[0m \u001b[0;32min\u001b[0m \u001b[0mrange\u001b[0m\u001b[0;34m(\u001b[0m\u001b[0mlen\u001b[0m\u001b[0;34m(\u001b[0m\u001b[0mA\u001b[0m\u001b[0;34m)\u001b[0m\u001b[0;34m)\u001b[0m\u001b[0;34m:\u001b[0m \u001b[0mres\u001b[0m \u001b[0;34m+=\u001b[0m \u001b[0mA\u001b[0m\u001b[0;34m[\u001b[0m\u001b[0mi\u001b[0m\u001b[0;34m]\u001b[0m \u001b[0;34m*\u001b[0m \u001b[0mB\u001b[0m\u001b[0;34m[\u001b[0m\u001b[0mi\u001b[0m\u001b[0;34m]\u001b[0m\u001b[0;34m\u001b[0m\u001b[0;34m\u001b[0m\u001b[0m\n\u001b[0m\u001b[1;32m      7\u001b[0m     \u001b[0;31m# res = 0\u001b[0m\u001b[0;34m\u001b[0m\u001b[0;34m\u001b[0m\u001b[0;34m\u001b[0m\u001b[0m\n\u001b[1;32m      8\u001b[0m     \u001b[0;31m# for i in range(len(a)): res += a[i] * b[i]\u001b[0m\u001b[0;34m\u001b[0m\u001b[0;34m\u001b[0m\u001b[0;34m\u001b[0m\u001b[0m\n",
            "\u001b[0;31mTypeError\u001b[0m: can't multiply sequence by non-int of type 'list'"
          ]
        }
      ]
    },
    {
      "cell_type": "code",
      "metadata": {
        "id": "q7EMwyBZAnCU",
        "colab": {
          "base_uri": "https://localhost:8080/"
        },
        "outputId": "1eb10089-1b7c-42c5-ae9b-188b4e9dacb6"
      },
      "source": [
        "%%time\n",
        "# засечем время работы функции с NumPy\n",
        "np_mult(a, b)"
      ],
      "execution_count": 164,
      "outputs": [
        {
          "output_type": "stream",
          "text": [
            "CPU times: user 2.62 ms, sys: 0 ns, total: 2.62 ms\n",
            "Wall time: 1.69 ms\n"
          ],
          "name": "stdout"
        },
        {
          "output_type": "execute_result",
          "data": {
            "text/plain": [
              "array([[252.71187435, 252.34926794, 263.24446936, ..., 248.17774504,\n",
              "        258.68888646, 253.33435243],\n",
              "       [239.41466777, 238.41753717, 253.04827493, ..., 233.93358964,\n",
              "        240.99091825, 243.64006446],\n",
              "       [251.1527197 , 254.07442682, 268.68634912, ..., 253.54031575,\n",
              "        260.48158359, 253.31219666],\n",
              "       ...,\n",
              "       [243.89400537, 240.10972642, 253.47452574, ..., 239.25007609,\n",
              "        250.14221501, 239.167813  ],\n",
              "       [249.02232106, 242.55566538, 256.93951168, ..., 241.76488291,\n",
              "        248.86680433, 244.82286941],\n",
              "       [242.27415046, 234.47259483, 254.80133842, ..., 229.90797932,\n",
              "        249.65438045, 241.27914369]])"
            ]
          },
          "metadata": {
            "tags": []
          },
          "execution_count": 164
        }
      ]
    },
    {
      "cell_type": "markdown",
      "metadata": {
        "id": "KG540ywyAnCW"
      },
      "source": [
        "### Задача 2\n",
        "Напишите функцию, которая по данной последовательности $\\{A_i\\}_{i=1}^n$ строит последовательность $S_n$, где $S_k = \\frac{A_1 + ... + A_k}{k}$.  \n",
        "Аналогично -- с помощью библиотеки **NumPy** и без нее. Сравните скорость, объясните результат."
      ]
    },
    {
      "cell_type": "code",
      "metadata": {
        "id": "MfJmDaAqJeqJ"
      },
      "source": [
        "np.array?"
      ],
      "execution_count": 31,
      "outputs": []
    },
    {
      "cell_type": "code",
      "metadata": {
        "id": "Ab5-WegPAnCY",
        "colab": {
          "base_uri": "https://localhost:8080/"
        },
        "outputId": "d6a1433a-2abf-4d05-bfe9-037d1c4e96c8"
      },
      "source": [
        "# функция, решающая задачу с помощью NumPy\n",
        "def sec_av(A):\n",
        "    # Ваш код здесь\n",
        "    A = np.array(A)\n",
        "    n = len(A)\n",
        "    # print(f\"{{Ai}}[i=1:n={n}] =\", A)\n",
        "    S = np.array(range(n), float)\n",
        "    for k in range(1, n+1):\n",
        "        sum_A1k = 0\n",
        "        for i in range(k): sum_A1k += A[i]\n",
        "        S[i] = sum_A1k / k\n",
        "    return S\n",
        "\n",
        "A = [1, 2, 3]\n",
        "A_list = list(A)\n",
        "\n",
        "A_list \\\n",
        ", sec_av(A_list)"
      ],
      "execution_count": 50,
      "outputs": [
        {
          "output_type": "execute_result",
          "data": {
            "text/plain": [
              "([1, 2, 3], array([1. , 1.5, 2. ]))"
            ]
          },
          "metadata": {
            "tags": []
          },
          "execution_count": 50
        }
      ]
    },
    {
      "cell_type": "code",
      "metadata": {
        "id": "6nrrMn0zAnCe",
        "colab": {
          "base_uri": "https://localhost:8080/"
        },
        "outputId": "c50c9556-2532-494a-a024-54df39d39de6"
      },
      "source": [
        "# функция без NumPy\n",
        "def stupid_sec_av(A):\n",
        "    # Ваш код здесь\n",
        "    n = len(A)\n",
        "    # print(f\"{{Ai}}[i=1:n={n}] =\", A)\n",
        "    S = []\n",
        "    for k in range(1, n+1):\n",
        "        sum_A1k = 0\n",
        "        for i in range(k): sum_A1k += A[i]\n",
        "        S += [sum_A1k / k]\n",
        "    return S\n",
        "\n",
        "A_list, stupid_sec_av(A_list)"
      ],
      "execution_count": 51,
      "outputs": [
        {
          "output_type": "execute_result",
          "data": {
            "text/plain": [
              "([1, 2, 3], [1.0, 1.5, 2.0])"
            ]
          },
          "metadata": {
            "tags": []
          },
          "execution_count": 51
        }
      ]
    },
    {
      "cell_type": "code",
      "metadata": {
        "colab": {
          "base_uri": "https://localhost:8080/"
        },
        "id": "XusV2zV_FJjr",
        "outputId": "a85d8701-1f23-45bf-d66c-73e362f97264"
      },
      "source": [
        "e = 4 # 6\n",
        "\n",
        "# зададим некоторую последовательность и проверим ее на ваших функциях. \n",
        "# Первая функция должна работать ~ в 50 раз быстрее\n",
        "A = sps.uniform.rvs(size=10 ** e) \n",
        "A_list = list(A)\n",
        "\n",
        "%time S1 = sec_av(A)\n",
        "%time S2 = stupid_sec_av(A_list)\n",
        "#проверим корректность:\n",
        "np.abs(S1 - S2).sum()\n",
        "# S2"
      ],
      "execution_count": 165,
      "outputs": [
        {
          "output_type": "stream",
          "text": [
            "CPU times: user 13.2 s, sys: 23.1 ms, total: 13.2 s\n",
            "Wall time: 13.2 s\n",
            "CPU times: user 7.46 s, sys: 7.6 ms, total: 7.47 s\n",
            "Wall time: 7.47 s\n"
          ],
          "name": "stdout"
        },
        {
          "output_type": "execute_result",
          "data": {
            "text/plain": [
              "0.0"
            ]
          },
          "metadata": {
            "tags": []
          },
          "execution_count": 165
        }
      ]
    },
    {
      "cell_type": "markdown",
      "metadata": {
        "id": "OZ_lfq_9AnCf"
      },
      "source": [
        "### Задача 3\n",
        "\n",
        "Пусть задан некоторый массив $X$. Надо построить новый массив, где все элементы с нечетными индексами требуется заменить на число $a$ (если оно не указано, то на 1). Все элементы с четными индексами исходного массива нужно возвести в куб и записать в обратном порядке относительно позиций этих элементов. Массив $X$ при этом должен остаться без изменений. В конце требуется слить (конкатенировать) массив X с преобразованным X и вывести в обратном порядке. "
      ]
    },
    {
      "cell_type": "code",
      "metadata": {
        "id": "aDovbOB_Y75s"
      },
      "source": [
        "X = [0, 1, 2, 3]"
      ],
      "execution_count": 110,
      "outputs": []
    },
    {
      "cell_type": "code",
      "metadata": {
        "id": "kyV1yX16AnCg",
        "colab": {
          "base_uri": "https://localhost:8080/"
        },
        "outputId": "f212fa1f-5969-4de0-8ddb-3a306ec23be8"
      },
      "source": [
        "# функция, решающая задачу с помощью NumPy\n",
        "def transformation(X, a=1):\n",
        "    # Ваш код здесь\n",
        "    X = np.array(X)\n",
        "    Y = np.array([0] * len(X))\n",
        "    for i in range(len(X)):\n",
        "        Y[-i-1] = X[i]**3 if i % 2 else a\n",
        "    # Z = np.concatenate((X, Y))\n",
        "    return np.concatenate((X, Y))[::-1]\n",
        "# X, \\ \n",
        "transformation(X, a=1)"
      ],
      "execution_count": 113,
      "outputs": [
        {
          "output_type": "execute_result",
          "data": {
            "text/plain": [
              "array([ 1,  1,  1, 27,  3,  2,  1,  0])"
            ]
          },
          "metadata": {
            "tags": []
          },
          "execution_count": 113
        }
      ]
    },
    {
      "cell_type": "code",
      "metadata": {
        "id": "BTL9O905AnCh",
        "colab": {
          "base_uri": "https://localhost:8080/"
        },
        "outputId": "afb72e14-0f5a-4270-95c9-15e28ba58291"
      },
      "source": [
        "# функция, решающая задачу  без NumPy\n",
        "def stupid_transformation(X, a=1):\n",
        "    # Ваш код здесь\n",
        "    Y = [None] * len(X)\n",
        "    for i, item in enumerate(X):\n",
        "        # print(i % 2)\n",
        "        Y[-i-1] = item**3 if i % 2 else a\n",
        "    # Y = X + Y\n",
        "    # Y.sort(reverse=True)\n",
        "    return (X + Y)[::-1]\n",
        "# X, \\\n",
        "stupid_transformation(X, a=1)    "
      ],
      "execution_count": 111,
      "outputs": [
        {
          "output_type": "execute_result",
          "data": {
            "text/plain": [
              "[1, 1, 1, 27, 3, 2, 1, 0]"
            ]
          },
          "metadata": {
            "tags": []
          },
          "execution_count": 111
        }
      ]
    },
    {
      "cell_type": "code",
      "metadata": {
        "id": "lWoSVC-ZAnCj",
        "colab": {
          "base_uri": "https://localhost:8080/"
        },
        "outputId": "725ecdf9-5dd4-4046-af2c-7c55d6d61d0f"
      },
      "source": [
        "X = sps.uniform.rvs(size=10 ** 3)\n",
        "X_list = list(X)\n",
        "# здесь код эффективнее примерно в 20 раз. \n",
        "# если Вы вдруг соберетесь печатать массив без np -- лучше сначала посмотрите на его размер\n",
        "%time S1 = transformation(X)\n",
        "%time S2 = stupid_transformation(X_list)\n",
        "# проверим корректность:\n",
        "print(np.abs(S1 - S2).sum())"
      ],
      "execution_count": 116,
      "outputs": [
        {
          "output_type": "stream",
          "text": [
            "CPU times: user 1.13 ms, sys: 0 ns, total: 1.13 ms\n",
            "Wall time: 1.64 ms\n",
            "CPU times: user 535 µs, sys: 0 ns, total: 535 µs\n",
            "Wall time: 539 µs\n",
            "130.1841835762673\n"
          ],
          "name": "stdout"
        }
      ]
    },
    {
      "cell_type": "markdown",
      "metadata": {
        "id": "Vtf0ueIPAnCk"
      },
      "source": [
        "Почему методы ***numpy*** оказываются эффективнее?\n",
        "\n",
        "1.   Новый пункт\n",
        "2.   Новый пункт\n",
        "\n"
      ]
    },
    {
      "cell_type": "code",
      "metadata": {
        "id": "1amUDE4FAnCm",
        "colab": {
          "base_uri": "https://localhost:8080/",
          "height": 136
        },
        "outputId": "3444e1be-76ab-4d35-c8a0-ef448a20acc1"
      },
      "source": [
        "# Потому что они написаны на C (или C++... не знаю точно 🤓) и \"векторизованные\" (перебор элементов осуществляется внутри C, а не python'a)"
      ],
      "execution_count": 324,
      "outputs": [
        {
          "output_type": "error",
          "ename": "SyntaxError",
          "evalue": "ignored",
          "traceback": [
            "\u001b[0;36m  File \u001b[0;32m\"<ipython-input-324-7e8b658aa399>\"\u001b[0;36m, line \u001b[0;32m1\u001b[0m\n\u001b[0;31m    Потому что они написаны на C (или C++... не знаю точно 🤓) и \"векторизованные\" (перебор элементов осуществляется внутри C, а не python'a)\u001b[0m\n\u001b[0m             ^\u001b[0m\n\u001b[0;31mSyntaxError\u001b[0m\u001b[0;31m:\u001b[0m invalid syntax\n"
          ]
        }
      ]
    },
    {
      "cell_type": "markdown",
      "metadata": {
        "id": "kT4ebTYXAnCn"
      },
      "source": [
        "## Дополнительные задачи"
      ]
    },
    {
      "cell_type": "markdown",
      "metadata": {
        "id": "NMwFLvrjAnCo"
      },
      "source": [
        "Дополнительные задачи подразумевают, что Вы самостоятельно разберётесь в некоторых функциях ***numpy***, чтобы их сделать, но в то же время не являются обязательными."
      ]
    },
    {
      "cell_type": "markdown",
      "metadata": {
        "id": "HBR3J8MTAnCp"
      },
      "source": [
        "### Задача 4*"
      ]
    },
    {
      "cell_type": "markdown",
      "metadata": {
        "id": "GzD730GYAnCp"
      },
      "source": [
        "Дана функция двух переменных: $f(x, y) = sin(x)cos(y)$ (это просто такой красивый 3D-график), а также дана функция для отрисовки $f(x, y)$ (`draw_f()`), которая принимает на вход двумерную сетку, на которой будет вычисляться функция.  \n",
        "\n",
        "Вам нужно разобраться в том, как строить такие сетки (подсказка - это одна конкретная функция ***numpy***), и подать такую сетку на вход функции отрисовки."
      ]
    },
    {
      "cell_type": "code",
      "metadata": {
        "id": "zg-T3AhYAnCr"
      },
      "source": [
        "from matplotlib import pyplot as plt\n",
        "from mpl_toolkits.mplot3d import Axes3D\n",
        "%matplotlib inline\n",
        "\n",
        "def f(x, y):\n",
        "    '''Функция двух переменных'''\n",
        "    return np.sin(x) * np.cos(y)\n",
        "\n",
        "def draw_f(grid_x, grid_y):\n",
        "    '''Функция отрисовки функции f(x, y)'''\n",
        "    fig = plt.figure(figsize=(10, 8))\n",
        "    ax = Axes3D(fig)\n",
        "    ax.plot_surface(grid_x, grid_y, f(grid_x, grid_y), cmap='inferno')\n",
        "    plt.show()"
      ],
      "execution_count": null,
      "outputs": []
    },
    {
      "cell_type": "code",
      "metadata": {
        "id": "TaPm7p02AnCs"
      },
      "source": [
        "grid_x, grid_y = # Ваш ответ\n",
        "\n",
        "draw_f(grid_x, grid_y)"
      ],
      "execution_count": null,
      "outputs": []
    },
    {
      "cell_type": "markdown",
      "metadata": {
        "id": "A0tB29bnAnCt"
      },
      "source": [
        "### Задача 5*"
      ]
    },
    {
      "cell_type": "markdown",
      "metadata": {
        "id": "5HHTDOGcAnCu"
      },
      "source": [
        "Вам дана картинка. При загрузке её размерность равна 3: **(w, h, num_channels)**, где **w** - ширина картинки в пикселях, **h** - высота картинки в пикселях, **num_channels** - количество каналов *(R, G, B, alpha)*.\n",
        "\n",
        "Вам нужно \"развернуть\" картинку в одномерный массив размера w \\* h \\* num_channels, написав **одну строку кода**."
      ]
    },
    {
      "cell_type": "code",
      "metadata": {
        "id": "ea499QVlAnCv"
      },
      "source": [
        "from matplotlib import pyplot as plt\n",
        "%matplotlib inline"
      ],
      "execution_count": null,
      "outputs": []
    },
    {
      "cell_type": "markdown",
      "metadata": {
        "id": "vgIhan88AnCw"
      },
      "source": [
        "Загрузим картинку. Если эта ячейка не сработает, смотрите дальше:"
      ]
    },
    {
      "cell_type": "code",
      "metadata": {
        "id": "r2yazwUYAnCx"
      },
      "source": [
        "path_to_image = './image.jpg'\n",
        "image_array = plt.imread(path_to_image)"
      ],
      "execution_count": null,
      "outputs": []
    },
    {
      "cell_type": "markdown",
      "metadata": {
        "id": "37lULfB7AnCx"
      },
      "source": [
        "Если Вы работаете в google colab или по каким-то еще причинам картинка с диска не загрузилась, можно попробовать загрузить через ссылку в интернете:"
      ]
    },
    {
      "cell_type": "code",
      "metadata": {
        "id": "WojD7wqQAnCy"
      },
      "source": [
        "from PIL import Image\n",
        "import requests\n",
        "from io import BytesIO\n",
        "\n",
        "path_to_image = '__enter your image URL here__'\n",
        "# например: https://github.com/hocop/sberbank_madmo/raw/master/day_1/homework/image.jpg\n",
        "\n",
        "response = requests.get(path_to_image)\n",
        "img = Image.open(BytesIO(response.content))\n",
        "\n",
        "image_array = np.array(img)"
      ],
      "execution_count": null,
      "outputs": []
    },
    {
      "cell_type": "markdown",
      "metadata": {
        "id": "7IfEBpiAAnCz"
      },
      "source": [
        "В любом случае, у Вас должен появиться объект `image_array`.  \n",
        "Распечатаем его на экране:"
      ]
    },
    {
      "cell_type": "code",
      "metadata": {
        "id": "rFyaqymrAnCz"
      },
      "source": [
        "plt.imshow(image_array);"
      ],
      "execution_count": null,
      "outputs": []
    },
    {
      "cell_type": "code",
      "metadata": {
        "id": "qCsVg0eyAnC0"
      },
      "source": [
        "# Ваш код здесь"
      ],
      "execution_count": null,
      "outputs": []
    },
    {
      "cell_type": "code",
      "metadata": {
        "id": "2ZKFaVhlAnC1"
      },
      "source": [
        "# Здесь выведите размерность нового массива"
      ],
      "execution_count": null,
      "outputs": []
    },
    {
      "cell_type": "code",
      "metadata": {
        "id": "qHVVnI5KAnC1"
      },
      "source": [
        ""
      ],
      "execution_count": null,
      "outputs": []
    },
    {
      "cell_type": "code",
      "metadata": {
        "id": "22NWEil0r8Ok"
      },
      "source": [
        ""
      ],
      "execution_count": null,
      "outputs": []
    }
  ]
}