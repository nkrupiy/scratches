{
  "nbformat": 4,
  "nbformat_minor": 0,
  "metadata": {
    "anaconda-cloud": {},
    "kernelspec": {
      "display_name": "Python 3",
      "language": "python",
      "name": "python3"
    },
    "language_info": {
      "codemirror_mode": {
        "name": "ipython",
        "version": 3
      },
      "file_extension": ".py",
      "mimetype": "text/x-python",
      "name": "python",
      "nbconvert_exporter": "python",
      "pygments_lexer": "ipython3",
      "version": "3.5.2"
    },
    "colab": {
      "name": "homework1_Крупий_Николай.ipynb",
      "provenance": [],
      "collapsed_sections": [],
      "include_colab_link": true
    }
  },
  "cells": [
    {
      "cell_type": "markdown",
      "metadata": {
        "id": "view-in-github",
        "colab_type": "text"
      },
      "source": [
        "<a href=\"https://colab.research.google.com/github/nkrupiy/scratches/blob/master/homework1_%D0%9A%D1%80%D1%83%D0%BF%D0%B8%D0%B9_%D0%9D%D0%B8%D0%BA%D0%BE%D0%BB%D0%B0%D0%B9.ipynb\" target=\"_parent\"><img src=\"https://colab.research.google.com/assets/colab-badge.svg\" alt=\"Open In Colab\"/></a>"
      ]
    },
    {
      "cell_type": "code",
      "metadata": {
        "id": "HrDEmYf_oghW"
      },
      "source": [
        "# Задачи из \"Занятие 1, основу numpy, pandas, matplotlib.ipynb\""
      ],
      "execution_count": 209,
      "outputs": []
    },
    {
      "cell_type": "markdown",
      "metadata": {
        "id": "EZrsBxXFookz"
      },
      "source": [
        ""
      ]
    },
    {
      "cell_type": "markdown",
      "metadata": {
        "id": "ZYcKnimkFRrD"
      },
      "source": [
        "## Задание 1\n",
        "\n",
        "Создайте массив массив из 100 элементов (от 1 до 100), переформатируйте в формат (10 * 10), сделайте слайсинг с шагом 2 по каждой оси."
      ]
    },
    {
      "cell_type": "code",
      "metadata": {
        "id": "fRlLmZqCjocU"
      },
      "source": [
        "np.array(range(1, 101)).T.reshape(10, 10)[::2,::2]"
      ],
      "execution_count": null,
      "outputs": []
    },
    {
      "cell_type": "markdown",
      "metadata": {
        "id": "SrI3heKeV7nP"
      },
      "source": [
        "## Задание 2\n",
        "\n",
        "Написать функцию, которая по заданной длине последовательности находит среднее арифметическое ее членов.\n",
        "\n",
        "Реализуйте задачу с и без помощи numpy, сравните время выполнения"
      ]
    },
    {
      "cell_type": "code",
      "metadata": {
        "id": "LR3cdzVXnaUq"
      },
      "source": [
        "range?\n",
        "# list(range(1, 5, ))"
      ],
      "execution_count": 202,
      "outputs": []
    },
    {
      "cell_type": "code",
      "metadata": {
        "colab": {
          "base_uri": "https://localhost:8080/"
        },
        "id": "U2RQCPo0lkop",
        "outputId": "2b8900aa-1c1b-49bb-9bb2-d1cd4fbc8e07"
      },
      "source": [
        "dlina_posl = 100_000_000\n",
        "def avg_pos(a):\n",
        "  sum = 0\n",
        "  pos = range(a)\n",
        "  for i in pos: sum += i\n",
        "  return sum / len(pos)\n",
        "%time avg_pos(dlina_posl)"
      ],
      "execution_count": 206,
      "outputs": [
        {
          "output_type": "stream",
          "text": [
            "CPU times: user 6.8 s, sys: 6.17 ms, total: 6.8 s\n",
            "Wall time: 6.82 s\n"
          ],
          "name": "stdout"
        },
        {
          "output_type": "execute_result",
          "data": {
            "text/plain": [
              "49999999.5"
            ]
          },
          "metadata": {
            "tags": []
          },
          "execution_count": 206
        }
      ]
    },
    {
      "cell_type": "code",
      "metadata": {
        "colab": {
          "base_uri": "https://localhost:8080/"
        },
        "id": "ZzauDuXrmlMN",
        "outputId": "327724f5-b228-4cc4-efa7-3dba621d3f1a"
      },
      "source": [
        "dlina_posl = 100_000_000\n",
        "def np_avg_pos(a):\n",
        "  pos = np.array(range(a))\n",
        "  sum = pos.sum()\n",
        "  return sum / len(pos)\n",
        "%time np_avg_pos(dlina_posl)"
      ],
      "execution_count": 207,
      "outputs": [
        {
          "output_type": "stream",
          "text": [
            "CPU times: user 14.6 s, sys: 4.78 s, total: 19.4 s\n",
            "Wall time: 19.4 s\n"
          ],
          "name": "stdout"
        },
        {
          "output_type": "execute_result",
          "data": {
            "text/plain": [
              "49999999.5"
            ]
          },
          "metadata": {
            "tags": []
          },
          "execution_count": 207
        }
      ]
    },
    {
      "cell_type": "markdown",
      "metadata": {
        "id": "aF_IhXzJFWzJ"
      },
      "source": [
        "## Задание 3\n",
        "\n",
        "Задан Series объект s, найти индекс первого элемента отсортированного s, где значения больше 5"
      ]
    },
    {
      "cell_type": "code",
      "metadata": {
        "id": "p7_a4d1EoRjF",
        "outputId": "428b29fe-ed0b-4b5b-b617-ed583c466ee0",
        "colab": {
          "base_uri": "https://localhost:8080/",
          "height": 210
        }
      },
      "source": [
        "# задано изначально\n",
        "import numpy as np, pandas as pd\n",
        "r = np.random.RandomState(1)\n",
        "s=pd.Series(r.uniform(0, 10, 100))\n",
        "# s, \\\n",
        "np.sort(s[s>5]), np.sort(s[s>5])[0]\n",
        "np.sort(s).icol(np.sort(s[s>5])[0])"
      ],
      "execution_count": 222,
      "outputs": [
        {
          "output_type": "error",
          "ename": "AttributeError",
          "evalue": "ignored",
          "traceback": [
            "\u001b[0;31m---------------------------------------------------------------------------\u001b[0m",
            "\u001b[0;31mAttributeError\u001b[0m                            Traceback (most recent call last)",
            "\u001b[0;32m<ipython-input-222-b36a72f050a7>\u001b[0m in \u001b[0;36m<module>\u001b[0;34m()\u001b[0m\n\u001b[1;32m      5\u001b[0m \u001b[0;31m# s, \\\u001b[0m\u001b[0;34m\u001b[0m\u001b[0;34m\u001b[0m\u001b[0;34m\u001b[0m\u001b[0m\n\u001b[1;32m      6\u001b[0m \u001b[0mnp\u001b[0m\u001b[0;34m.\u001b[0m\u001b[0msort\u001b[0m\u001b[0;34m(\u001b[0m\u001b[0ms\u001b[0m\u001b[0;34m[\u001b[0m\u001b[0ms\u001b[0m\u001b[0;34m>\u001b[0m\u001b[0;36m5\u001b[0m\u001b[0;34m]\u001b[0m\u001b[0;34m)\u001b[0m\u001b[0;34m,\u001b[0m \u001b[0mnp\u001b[0m\u001b[0;34m.\u001b[0m\u001b[0msort\u001b[0m\u001b[0;34m(\u001b[0m\u001b[0ms\u001b[0m\u001b[0;34m[\u001b[0m\u001b[0ms\u001b[0m\u001b[0;34m>\u001b[0m\u001b[0;36m5\u001b[0m\u001b[0;34m]\u001b[0m\u001b[0;34m)\u001b[0m\u001b[0;34m[\u001b[0m\u001b[0;36m0\u001b[0m\u001b[0;34m]\u001b[0m\u001b[0;34m\u001b[0m\u001b[0;34m\u001b[0m\u001b[0m\n\u001b[0;32m----> 7\u001b[0;31m \u001b[0mnp\u001b[0m\u001b[0;34m.\u001b[0m\u001b[0msort\u001b[0m\u001b[0;34m(\u001b[0m\u001b[0ms\u001b[0m\u001b[0;34m)\u001b[0m\u001b[0;34m.\u001b[0m\u001b[0micol\u001b[0m\u001b[0;34m(\u001b[0m\u001b[0mnp\u001b[0m\u001b[0;34m.\u001b[0m\u001b[0msort\u001b[0m\u001b[0;34m(\u001b[0m\u001b[0ms\u001b[0m\u001b[0;34m[\u001b[0m\u001b[0ms\u001b[0m\u001b[0;34m>\u001b[0m\u001b[0;36m5\u001b[0m\u001b[0;34m]\u001b[0m\u001b[0;34m)\u001b[0m\u001b[0;34m[\u001b[0m\u001b[0;36m0\u001b[0m\u001b[0;34m]\u001b[0m\u001b[0;34m)\u001b[0m\u001b[0;34m\u001b[0m\u001b[0;34m\u001b[0m\u001b[0m\n\u001b[0m",
            "\u001b[0;31mAttributeError\u001b[0m: 'numpy.ndarray' object has no attribute 'icol'"
          ]
        }
      ]
    },
    {
      "cell_type": "markdown",
      "metadata": {
        "id": "V-DqrxK-AnBi"
      },
      "source": [
        "## Домашнее задание 1\n",
        "### Основы Python и пакет NumPy\n",
        "---\n"
      ]
    },
    {
      "cell_type": "code",
      "metadata": {
        "id": "3VqwHt5UAnB9"
      },
      "source": [
        "import numpy as np\n",
        "import random\n",
        "import scipy.stats as sps"
      ],
      "execution_count": 1,
      "outputs": []
    },
    {
      "cell_type": "markdown",
      "metadata": {
        "id": "3eOSpcEDAnCF"
      },
      "source": [
        "### Задача 1\n",
        "В первой задаче вам предлагается перемножить две матрицы двумя способами -- без использования пакета ***numpy*** и с ним. Использовать матричное произведение."
      ]
    },
    {
      "cell_type": "code",
      "metadata": {
        "id": "EiOPtQkuAnCJ",
        "colab": {
          "base_uri": "https://localhost:8080/"
        },
        "outputId": "63bd71c3-4d86-4a26-9c51-48bd3ce954c0"
      },
      "source": [
        "# Для генерации матриц используем фукнцию random -- она используется для генерации случайных объектов \n",
        "# функция sample создает случайную выборку. В качестве аргумента ей передается кортеж (i,j), здесь i -- число строк,\n",
        "# j -- число столбцов.\n",
        "a = np.random.sample((100,1000))\n",
        "b = np.random.sample((1000,100))\n",
        "\n",
        "# выведите размерность (ранг) каждой матрицы с помощью функции ndim.\n",
        "# Используйте функцию shape, что она вывела?\n",
        "# ========\n",
        "(\n",
        "a.ndim, a.shape,\n",
        "b.ndim, b.shape,\n",
        ")\n",
        "# ========"
      ],
      "execution_count": 156,
      "outputs": [
        {
          "output_type": "execute_result",
          "data": {
            "text/plain": [
              "(2, (100, 1000), 2, (1000, 100))"
            ]
          },
          "metadata": {
            "tags": []
          },
          "execution_count": 156
        }
      ]
    },
    {
      "cell_type": "code",
      "metadata": {
        "id": "ciq5vZCzAnCQ"
      },
      "source": [
        "# Превратим матрицы в листы, чтобы протестировать функцию без np\n",
        "a_list = [[x for x in row] for row in a]\n",
        "b_list = [[x for x in row] for row in b]\n",
        "# a, b, \\\n",
        "# a_list, b_list"
      ],
      "execution_count": 157,
      "outputs": []
    },
    {
      "cell_type": "code",
      "metadata": {
        "id": "oWMcUuWIAnCL",
        "colab": {
          "base_uri": "https://localhost:8080/"
        },
        "outputId": "32159089-c941-4891-f1b6-1aaae4103c89"
      },
      "source": [
        "A, B = [1, 2, 3], [4, 5, 6]\n",
        "def mult(a, b):\n",
        "    # здесь напишите перемножение матриц без \n",
        "    # использования NumPy и выведите результат\n",
        "    # res, A, B = 0, list(a), list(b)\n",
        "    # for i in range(len(A)): res += A[i] * B[i]\n",
        "    res = 0\n",
        "    for i in range(len(a)): res += a[i] * b[i]\n",
        "    return res\n",
        "  \n",
        "A, B, mult(A, B)"
      ],
      "execution_count": 162,
      "outputs": [
        {
          "output_type": "execute_result",
          "data": {
            "text/plain": [
              "([1, 2, 3], [4, 5, 6], 32)"
            ]
          },
          "metadata": {
            "tags": []
          },
          "execution_count": 162
        }
      ]
    },
    {
      "cell_type": "code",
      "metadata": {
        "id": "4zF2-t_xAnCN",
        "colab": {
          "base_uri": "https://localhost:8080/"
        },
        "outputId": "8c639401-42cc-4402-944b-5e457230e788"
      },
      "source": [
        "def np_mult(a, b):\n",
        "    # здесь напишите перемножение матриц с\n",
        "    # использованием NumPy и выведите результат\n",
        "    return np.dot(a, b) #, a @ b\n",
        "\n",
        "A, B, np_mult(A, B)"
      ],
      "execution_count": 159,
      "outputs": [
        {
          "output_type": "execute_result",
          "data": {
            "text/plain": [
              "([1, 2, 3], [4, 5, 6], 32)"
            ]
          },
          "metadata": {
            "tags": []
          },
          "execution_count": 159
        }
      ]
    },
    {
      "cell_type": "code",
      "metadata": {
        "id": "1x7K53ZVAnCS",
        "colab": {
          "base_uri": "https://localhost:8080/",
          "height": 401
        },
        "outputId": "e8246cc7-9c37-48c0-8990-f82746fe6828"
      },
      "source": [
        "%%time\n",
        "# засечем время работы функции без NumPy\n",
        "mult(a_list, b_list)"
      ],
      "execution_count": 163,
      "outputs": [
        {
          "output_type": "error",
          "ename": "TypeError",
          "evalue": "ignored",
          "traceback": [
            "\u001b[0;31m---------------------------------------------------------------------------\u001b[0m",
            "\u001b[0;31mTypeError\u001b[0m                                 Traceback (most recent call last)",
            "\u001b[0;32m<ipython-input-163-c082050e6ff4>\u001b[0m in \u001b[0;36m<module>\u001b[0;34m()\u001b[0m\n\u001b[0;32m----> 1\u001b[0;31m \u001b[0mget_ipython\u001b[0m\u001b[0;34m(\u001b[0m\u001b[0;34m)\u001b[0m\u001b[0;34m.\u001b[0m\u001b[0mrun_cell_magic\u001b[0m\u001b[0;34m(\u001b[0m\u001b[0;34m'time'\u001b[0m\u001b[0;34m,\u001b[0m \u001b[0;34m''\u001b[0m\u001b[0;34m,\u001b[0m \u001b[0;34m'# засечем время работы функции без NumPy\\nmult(a_list, b_list)'\u001b[0m\u001b[0;34m)\u001b[0m\u001b[0;34m\u001b[0m\u001b[0;34m\u001b[0m\u001b[0m\n\u001b[0m",
            "\u001b[0;32m/usr/local/lib/python3.7/dist-packages/IPython/core/interactiveshell.py\u001b[0m in \u001b[0;36mrun_cell_magic\u001b[0;34m(self, magic_name, line, cell)\u001b[0m\n\u001b[1;32m   2115\u001b[0m             \u001b[0mmagic_arg_s\u001b[0m \u001b[0;34m=\u001b[0m \u001b[0mself\u001b[0m\u001b[0;34m.\u001b[0m\u001b[0mvar_expand\u001b[0m\u001b[0;34m(\u001b[0m\u001b[0mline\u001b[0m\u001b[0;34m,\u001b[0m \u001b[0mstack_depth\u001b[0m\u001b[0;34m)\u001b[0m\u001b[0;34m\u001b[0m\u001b[0;34m\u001b[0m\u001b[0m\n\u001b[1;32m   2116\u001b[0m             \u001b[0;32mwith\u001b[0m \u001b[0mself\u001b[0m\u001b[0;34m.\u001b[0m\u001b[0mbuiltin_trap\u001b[0m\u001b[0;34m:\u001b[0m\u001b[0;34m\u001b[0m\u001b[0;34m\u001b[0m\u001b[0m\n\u001b[0;32m-> 2117\u001b[0;31m                 \u001b[0mresult\u001b[0m \u001b[0;34m=\u001b[0m \u001b[0mfn\u001b[0m\u001b[0;34m(\u001b[0m\u001b[0mmagic_arg_s\u001b[0m\u001b[0;34m,\u001b[0m \u001b[0mcell\u001b[0m\u001b[0;34m)\u001b[0m\u001b[0;34m\u001b[0m\u001b[0;34m\u001b[0m\u001b[0m\n\u001b[0m\u001b[1;32m   2118\u001b[0m             \u001b[0;32mreturn\u001b[0m \u001b[0mresult\u001b[0m\u001b[0;34m\u001b[0m\u001b[0;34m\u001b[0m\u001b[0m\n\u001b[1;32m   2119\u001b[0m \u001b[0;34m\u001b[0m\u001b[0m\n",
            "\u001b[0;32m<decorator-gen-53>\u001b[0m in \u001b[0;36mtime\u001b[0;34m(self, line, cell, local_ns)\u001b[0m\n",
            "\u001b[0;32m/usr/local/lib/python3.7/dist-packages/IPython/core/magic.py\u001b[0m in \u001b[0;36m<lambda>\u001b[0;34m(f, *a, **k)\u001b[0m\n\u001b[1;32m    186\u001b[0m     \u001b[0;31m# but it's overkill for just that one bit of state.\u001b[0m\u001b[0;34m\u001b[0m\u001b[0;34m\u001b[0m\u001b[0;34m\u001b[0m\u001b[0m\n\u001b[1;32m    187\u001b[0m     \u001b[0;32mdef\u001b[0m \u001b[0mmagic_deco\u001b[0m\u001b[0;34m(\u001b[0m\u001b[0marg\u001b[0m\u001b[0;34m)\u001b[0m\u001b[0;34m:\u001b[0m\u001b[0;34m\u001b[0m\u001b[0;34m\u001b[0m\u001b[0m\n\u001b[0;32m--> 188\u001b[0;31m         \u001b[0mcall\u001b[0m \u001b[0;34m=\u001b[0m \u001b[0;32mlambda\u001b[0m \u001b[0mf\u001b[0m\u001b[0;34m,\u001b[0m \u001b[0;34m*\u001b[0m\u001b[0ma\u001b[0m\u001b[0;34m,\u001b[0m \u001b[0;34m**\u001b[0m\u001b[0mk\u001b[0m\u001b[0;34m:\u001b[0m \u001b[0mf\u001b[0m\u001b[0;34m(\u001b[0m\u001b[0;34m*\u001b[0m\u001b[0ma\u001b[0m\u001b[0;34m,\u001b[0m \u001b[0;34m**\u001b[0m\u001b[0mk\u001b[0m\u001b[0;34m)\u001b[0m\u001b[0;34m\u001b[0m\u001b[0;34m\u001b[0m\u001b[0m\n\u001b[0m\u001b[1;32m    189\u001b[0m \u001b[0;34m\u001b[0m\u001b[0m\n\u001b[1;32m    190\u001b[0m         \u001b[0;32mif\u001b[0m \u001b[0mcallable\u001b[0m\u001b[0;34m(\u001b[0m\u001b[0marg\u001b[0m\u001b[0;34m)\u001b[0m\u001b[0;34m:\u001b[0m\u001b[0;34m\u001b[0m\u001b[0;34m\u001b[0m\u001b[0m\n",
            "\u001b[0;32m/usr/local/lib/python3.7/dist-packages/IPython/core/magics/execution.py\u001b[0m in \u001b[0;36mtime\u001b[0;34m(self, line, cell, local_ns)\u001b[0m\n\u001b[1;32m   1187\u001b[0m         \u001b[0;32mif\u001b[0m \u001b[0mmode\u001b[0m\u001b[0;34m==\u001b[0m\u001b[0;34m'eval'\u001b[0m\u001b[0;34m:\u001b[0m\u001b[0;34m\u001b[0m\u001b[0;34m\u001b[0m\u001b[0m\n\u001b[1;32m   1188\u001b[0m             \u001b[0mst\u001b[0m \u001b[0;34m=\u001b[0m \u001b[0mclock2\u001b[0m\u001b[0;34m(\u001b[0m\u001b[0;34m)\u001b[0m\u001b[0;34m\u001b[0m\u001b[0;34m\u001b[0m\u001b[0m\n\u001b[0;32m-> 1189\u001b[0;31m             \u001b[0mout\u001b[0m \u001b[0;34m=\u001b[0m \u001b[0meval\u001b[0m\u001b[0;34m(\u001b[0m\u001b[0mcode\u001b[0m\u001b[0;34m,\u001b[0m \u001b[0mglob\u001b[0m\u001b[0;34m,\u001b[0m \u001b[0mlocal_ns\u001b[0m\u001b[0;34m)\u001b[0m\u001b[0;34m\u001b[0m\u001b[0;34m\u001b[0m\u001b[0m\n\u001b[0m\u001b[1;32m   1190\u001b[0m             \u001b[0mend\u001b[0m \u001b[0;34m=\u001b[0m \u001b[0mclock2\u001b[0m\u001b[0;34m(\u001b[0m\u001b[0;34m)\u001b[0m\u001b[0;34m\u001b[0m\u001b[0;34m\u001b[0m\u001b[0m\n\u001b[1;32m   1191\u001b[0m         \u001b[0;32melse\u001b[0m\u001b[0;34m:\u001b[0m\u001b[0;34m\u001b[0m\u001b[0;34m\u001b[0m\u001b[0m\n",
            "\u001b[0;32m<timed eval>\u001b[0m in \u001b[0;36m<module>\u001b[0;34m()\u001b[0m\n",
            "\u001b[0;32m<ipython-input-162-0d638acdba08>\u001b[0m in \u001b[0;36mmult\u001b[0;34m(a, b)\u001b[0m\n\u001b[1;32m      6\u001b[0m     \u001b[0;31m# for i in range(len(A)): res += A[i] * B[i]\u001b[0m\u001b[0;34m\u001b[0m\u001b[0;34m\u001b[0m\u001b[0;34m\u001b[0m\u001b[0m\n\u001b[1;32m      7\u001b[0m     \u001b[0mres\u001b[0m \u001b[0;34m=\u001b[0m \u001b[0;36m0\u001b[0m\u001b[0;34m\u001b[0m\u001b[0;34m\u001b[0m\u001b[0m\n\u001b[0;32m----> 8\u001b[0;31m     \u001b[0;32mfor\u001b[0m \u001b[0mi\u001b[0m \u001b[0;32min\u001b[0m \u001b[0mrange\u001b[0m\u001b[0;34m(\u001b[0m\u001b[0mlen\u001b[0m\u001b[0;34m(\u001b[0m\u001b[0ma\u001b[0m\u001b[0;34m)\u001b[0m\u001b[0;34m)\u001b[0m\u001b[0;34m:\u001b[0m \u001b[0mres\u001b[0m \u001b[0;34m+=\u001b[0m \u001b[0ma\u001b[0m\u001b[0;34m[\u001b[0m\u001b[0mi\u001b[0m\u001b[0;34m]\u001b[0m \u001b[0;34m*\u001b[0m \u001b[0mb\u001b[0m\u001b[0;34m[\u001b[0m\u001b[0mi\u001b[0m\u001b[0;34m]\u001b[0m\u001b[0;34m\u001b[0m\u001b[0;34m\u001b[0m\u001b[0m\n\u001b[0m\u001b[1;32m      9\u001b[0m     \u001b[0;32mreturn\u001b[0m \u001b[0mres\u001b[0m\u001b[0;34m\u001b[0m\u001b[0;34m\u001b[0m\u001b[0m\n\u001b[1;32m     10\u001b[0m \u001b[0;34m\u001b[0m\u001b[0m\n",
            "\u001b[0;31mTypeError\u001b[0m: can't multiply sequence by non-int of type 'list'"
          ]
        }
      ]
    },
    {
      "cell_type": "code",
      "metadata": {
        "id": "q7EMwyBZAnCU",
        "colab": {
          "base_uri": "https://localhost:8080/"
        },
        "outputId": "1eb10089-1b7c-42c5-ae9b-188b4e9dacb6"
      },
      "source": [
        "%%time\n",
        "# засечем время работы функции с NumPy\n",
        "np_mult(a, b)"
      ],
      "execution_count": 164,
      "outputs": [
        {
          "output_type": "stream",
          "text": [
            "CPU times: user 2.62 ms, sys: 0 ns, total: 2.62 ms\n",
            "Wall time: 1.69 ms\n"
          ],
          "name": "stdout"
        },
        {
          "output_type": "execute_result",
          "data": {
            "text/plain": [
              "array([[252.71187435, 252.34926794, 263.24446936, ..., 248.17774504,\n",
              "        258.68888646, 253.33435243],\n",
              "       [239.41466777, 238.41753717, 253.04827493, ..., 233.93358964,\n",
              "        240.99091825, 243.64006446],\n",
              "       [251.1527197 , 254.07442682, 268.68634912, ..., 253.54031575,\n",
              "        260.48158359, 253.31219666],\n",
              "       ...,\n",
              "       [243.89400537, 240.10972642, 253.47452574, ..., 239.25007609,\n",
              "        250.14221501, 239.167813  ],\n",
              "       [249.02232106, 242.55566538, 256.93951168, ..., 241.76488291,\n",
              "        248.86680433, 244.82286941],\n",
              "       [242.27415046, 234.47259483, 254.80133842, ..., 229.90797932,\n",
              "        249.65438045, 241.27914369]])"
            ]
          },
          "metadata": {
            "tags": []
          },
          "execution_count": 164
        }
      ]
    },
    {
      "cell_type": "markdown",
      "metadata": {
        "id": "KG540ywyAnCW"
      },
      "source": [
        "### Задача 2\n",
        "Напишите функцию, которая по данной последовательности $\\{A_i\\}_{i=1}^n$ строит последовательность $S_n$, где $S_k = \\frac{A_1 + ... + A_k}{k}$.  \n",
        "Аналогично -- с помощью библиотеки **NumPy** и без нее. Сравните скорость, объясните результат."
      ]
    },
    {
      "cell_type": "code",
      "metadata": {
        "id": "MfJmDaAqJeqJ"
      },
      "source": [
        "np.array?"
      ],
      "execution_count": 31,
      "outputs": []
    },
    {
      "cell_type": "code",
      "metadata": {
        "id": "Ab5-WegPAnCY",
        "colab": {
          "base_uri": "https://localhost:8080/"
        },
        "outputId": "d6a1433a-2abf-4d05-bfe9-037d1c4e96c8"
      },
      "source": [
        "# функция, решающая задачу с помощью NumPy\n",
        "def sec_av(A):\n",
        "    # Ваш код здесь\n",
        "    A = np.array(A)\n",
        "    n = len(A)\n",
        "    # print(f\"{{Ai}}[i=1:n={n}] =\", A)\n",
        "    S = np.array(range(n), float)\n",
        "    for k in range(1, n+1):\n",
        "        sum_A1k = 0\n",
        "        for i in range(k): sum_A1k += A[i]\n",
        "        S[i] = sum_A1k / k\n",
        "    return S\n",
        "\n",
        "A = [1, 2, 3]\n",
        "A_list = list(A)\n",
        "\n",
        "A_list \\\n",
        ", sec_av(A_list)"
      ],
      "execution_count": 50,
      "outputs": [
        {
          "output_type": "execute_result",
          "data": {
            "text/plain": [
              "([1, 2, 3], array([1. , 1.5, 2. ]))"
            ]
          },
          "metadata": {
            "tags": []
          },
          "execution_count": 50
        }
      ]
    },
    {
      "cell_type": "code",
      "metadata": {
        "id": "6nrrMn0zAnCe",
        "colab": {
          "base_uri": "https://localhost:8080/"
        },
        "outputId": "c50c9556-2532-494a-a024-54df39d39de6"
      },
      "source": [
        "# функция без NumPy\n",
        "def stupid_sec_av(A):\n",
        "    # Ваш код здесь\n",
        "    n = len(A)\n",
        "    # print(f\"{{Ai}}[i=1:n={n}] =\", A)\n",
        "    S = []\n",
        "    for k in range(1, n+1):\n",
        "        sum_A1k = 0\n",
        "        for i in range(k): sum_A1k += A[i]\n",
        "        S += [sum_A1k / k]\n",
        "    return S\n",
        "\n",
        "A_list, stupid_sec_av(A_list)"
      ],
      "execution_count": 51,
      "outputs": [
        {
          "output_type": "execute_result",
          "data": {
            "text/plain": [
              "([1, 2, 3], [1.0, 1.5, 2.0])"
            ]
          },
          "metadata": {
            "tags": []
          },
          "execution_count": 51
        }
      ]
    },
    {
      "cell_type": "code",
      "metadata": {
        "colab": {
          "base_uri": "https://localhost:8080/"
        },
        "id": "XusV2zV_FJjr",
        "outputId": "a85d8701-1f23-45bf-d66c-73e362f97264"
      },
      "source": [
        "e = 4 # 6\n",
        "\n",
        "# зададим некоторую последовательность и проверим ее на ваших функциях. \n",
        "# Первая функция должна работать ~ в 50 раз быстрее\n",
        "A = sps.uniform.rvs(size=10 ** e) \n",
        "A_list = list(A)\n",
        "\n",
        "%time S1 = sec_av(A)\n",
        "%time S2 = stupid_sec_av(A_list)\n",
        "#проверим корректность:\n",
        "np.abs(S1 - S2).sum()\n",
        "# S2"
      ],
      "execution_count": 165,
      "outputs": [
        {
          "output_type": "stream",
          "text": [
            "CPU times: user 13.2 s, sys: 23.1 ms, total: 13.2 s\n",
            "Wall time: 13.2 s\n",
            "CPU times: user 7.46 s, sys: 7.6 ms, total: 7.47 s\n",
            "Wall time: 7.47 s\n"
          ],
          "name": "stdout"
        },
        {
          "output_type": "execute_result",
          "data": {
            "text/plain": [
              "0.0"
            ]
          },
          "metadata": {
            "tags": []
          },
          "execution_count": 165
        }
      ]
    },
    {
      "cell_type": "markdown",
      "metadata": {
        "id": "OZ_lfq_9AnCf"
      },
      "source": [
        "### Задача 3\n",
        "\n",
        "Пусть задан некоторый массив $X$. Надо построить новый массив, где все элементы с нечетными индексами требуется заменить на число $a$ (если оно не указано, то на 1). Все элементы с четными индексами исходного массива нужно возвести в куб и записать в обратном порядке относительно позиций этих элементов. Массив $X$ при этом должен остаться без изменений. В конце требуется слить (конкатенировать) массив X с преобразованным X и вывести в обратном порядке. "
      ]
    },
    {
      "cell_type": "code",
      "metadata": {
        "id": "aDovbOB_Y75s"
      },
      "source": [
        "X = [0, 1, 2, 3]"
      ],
      "execution_count": 110,
      "outputs": []
    },
    {
      "cell_type": "code",
      "metadata": {
        "id": "kyV1yX16AnCg",
        "colab": {
          "base_uri": "https://localhost:8080/"
        },
        "outputId": "f212fa1f-5969-4de0-8ddb-3a306ec23be8"
      },
      "source": [
        "# функция, решающая задачу с помощью NumPy\n",
        "def transformation(X, a=1):\n",
        "    # Ваш код здесь\n",
        "    X = np.array(X)\n",
        "    Y = np.array([0] * len(X))\n",
        "    for i in range(len(X)):\n",
        "        Y[-i-1] = X[i]**3 if i % 2 else a\n",
        "    # Z = np.concatenate((X, Y))\n",
        "    return np.concatenate((X, Y))[::-1]\n",
        "# X, \\ \n",
        "transformation(X, a=1)"
      ],
      "execution_count": 113,
      "outputs": [
        {
          "output_type": "execute_result",
          "data": {
            "text/plain": [
              "array([ 1,  1,  1, 27,  3,  2,  1,  0])"
            ]
          },
          "metadata": {
            "tags": []
          },
          "execution_count": 113
        }
      ]
    },
    {
      "cell_type": "code",
      "metadata": {
        "id": "BTL9O905AnCh",
        "colab": {
          "base_uri": "https://localhost:8080/"
        },
        "outputId": "afb72e14-0f5a-4270-95c9-15e28ba58291"
      },
      "source": [
        "# функция, решающая задачу  без NumPy\n",
        "def stupid_transformation(X, a=1):\n",
        "    # Ваш код здесь\n",
        "    Y = [None] * len(X)\n",
        "    for i, item in enumerate(X):\n",
        "        # print(i % 2)\n",
        "        Y[-i-1] = item**3 if i % 2 else a\n",
        "    # Y = X + Y\n",
        "    # Y.sort(reverse=True)\n",
        "    return (X + Y)[::-1]\n",
        "# X, \\\n",
        "stupid_transformation(X, a=1)    "
      ],
      "execution_count": 111,
      "outputs": [
        {
          "output_type": "execute_result",
          "data": {
            "text/plain": [
              "[1, 1, 1, 27, 3, 2, 1, 0]"
            ]
          },
          "metadata": {
            "tags": []
          },
          "execution_count": 111
        }
      ]
    },
    {
      "cell_type": "code",
      "metadata": {
        "id": "lWoSVC-ZAnCj",
        "colab": {
          "base_uri": "https://localhost:8080/"
        },
        "outputId": "725ecdf9-5dd4-4046-af2c-7c55d6d61d0f"
      },
      "source": [
        "X = sps.uniform.rvs(size=10 ** 3)\n",
        "X_list = list(X)\n",
        "# здесь код эффективнее примерно в 20 раз. \n",
        "# если Вы вдруг соберетесь печатать массив без np -- лучше сначала посмотрите на его размер\n",
        "%time S1 = transformation(X)\n",
        "%time S2 = stupid_transformation(X_list)\n",
        "# проверим корректность:\n",
        "print(np.abs(S1 - S2).sum())"
      ],
      "execution_count": 116,
      "outputs": [
        {
          "output_type": "stream",
          "text": [
            "CPU times: user 1.13 ms, sys: 0 ns, total: 1.13 ms\n",
            "Wall time: 1.64 ms\n",
            "CPU times: user 535 µs, sys: 0 ns, total: 535 µs\n",
            "Wall time: 539 µs\n",
            "130.1841835762673\n"
          ],
          "name": "stdout"
        }
      ]
    },
    {
      "cell_type": "markdown",
      "metadata": {
        "id": "Vtf0ueIPAnCk"
      },
      "source": [
        "Почему методы ***numpy*** оказываются эффективнее?"
      ]
    },
    {
      "cell_type": "code",
      "metadata": {
        "id": "1amUDE4FAnCm"
      },
      "source": [
        "# Ваш ответ"
      ],
      "execution_count": null,
      "outputs": []
    },
    {
      "cell_type": "markdown",
      "metadata": {
        "id": "kT4ebTYXAnCn"
      },
      "source": [
        "## Дополнительные задачи"
      ]
    },
    {
      "cell_type": "markdown",
      "metadata": {
        "id": "NMwFLvrjAnCo"
      },
      "source": [
        "Дополнительные задачи подразумевают, что Вы самостоятельно разберётесь в некоторых функциях ***numpy***, чтобы их сделать, но в то же время не являются обязательными."
      ]
    },
    {
      "cell_type": "markdown",
      "metadata": {
        "id": "HBR3J8MTAnCp"
      },
      "source": [
        "### Задача 4*"
      ]
    },
    {
      "cell_type": "markdown",
      "metadata": {
        "id": "GzD730GYAnCp"
      },
      "source": [
        "Дана функция двух переменных: $f(x, y) = sin(x)cos(y)$ (это просто такой красивый 3D-график), а также дана функция для отрисовки $f(x, y)$ (`draw_f()`), которая принимает на вход двумерную сетку, на которой будет вычисляться функция.  \n",
        "\n",
        "Вам нужно разобраться в том, как строить такие сетки (подсказка - это одна конкретная функция ***numpy***), и подать такую сетку на вход функции отрисовки."
      ]
    },
    {
      "cell_type": "code",
      "metadata": {
        "id": "zg-T3AhYAnCr"
      },
      "source": [
        "from matplotlib import pyplot as plt\n",
        "from mpl_toolkits.mplot3d import Axes3D\n",
        "%matplotlib inline\n",
        "\n",
        "def f(x, y):\n",
        "    '''Функция двух переменных'''\n",
        "    return np.sin(x) * np.cos(y)\n",
        "\n",
        "def draw_f(grid_x, grid_y):\n",
        "    '''Функция отрисовки функции f(x, y)'''\n",
        "    fig = plt.figure(figsize=(10, 8))\n",
        "    ax = Axes3D(fig)\n",
        "    ax.plot_surface(grid_x, grid_y, f(grid_x, grid_y), cmap='inferno')\n",
        "    plt.show()"
      ],
      "execution_count": null,
      "outputs": []
    },
    {
      "cell_type": "code",
      "metadata": {
        "id": "TaPm7p02AnCs"
      },
      "source": [
        "grid_x, grid_y = # Ваш ответ\n",
        "\n",
        "draw_f(grid_x, grid_y)"
      ],
      "execution_count": null,
      "outputs": []
    },
    {
      "cell_type": "markdown",
      "metadata": {
        "id": "A0tB29bnAnCt"
      },
      "source": [
        "### Задача 5*"
      ]
    },
    {
      "cell_type": "markdown",
      "metadata": {
        "id": "5HHTDOGcAnCu"
      },
      "source": [
        "Вам дана картинка. При загрузке её размерность равна 3: **(w, h, num_channels)**, где **w** - ширина картинки в пикселях, **h** - высота картинки в пикселях, **num_channels** - количество каналов *(R, G, B, alpha)*.\n",
        "\n",
        "Вам нужно \"развернуть\" картинку в одномерный массив размера w \\* h \\* num_channels, написав **одну строку кода**."
      ]
    },
    {
      "cell_type": "code",
      "metadata": {
        "id": "ea499QVlAnCv"
      },
      "source": [
        "from matplotlib import pyplot as plt\n",
        "%matplotlib inline"
      ],
      "execution_count": null,
      "outputs": []
    },
    {
      "cell_type": "markdown",
      "metadata": {
        "id": "vgIhan88AnCw"
      },
      "source": [
        "Загрузим картинку. Если эта ячейка не сработает, смотрите дальше:"
      ]
    },
    {
      "cell_type": "code",
      "metadata": {
        "id": "r2yazwUYAnCx"
      },
      "source": [
        "path_to_image = './image.jpg'\n",
        "image_array = plt.imread(path_to_image)"
      ],
      "execution_count": null,
      "outputs": []
    },
    {
      "cell_type": "markdown",
      "metadata": {
        "id": "37lULfB7AnCx"
      },
      "source": [
        "Если Вы работаете в google colab или по каким-то еще причинам картинка с диска не загрузилась, можно попробовать загрузить через ссылку в интернете:"
      ]
    },
    {
      "cell_type": "code",
      "metadata": {
        "id": "WojD7wqQAnCy"
      },
      "source": [
        "from PIL import Image\n",
        "import requests\n",
        "from io import BytesIO\n",
        "\n",
        "path_to_image = '__enter your image URL here__'\n",
        "# например: https://github.com/hocop/sberbank_madmo/raw/master/day_1/homework/image.jpg\n",
        "\n",
        "response = requests.get(path_to_image)\n",
        "img = Image.open(BytesIO(response.content))\n",
        "\n",
        "image_array = np.array(img)"
      ],
      "execution_count": null,
      "outputs": []
    },
    {
      "cell_type": "markdown",
      "metadata": {
        "id": "7IfEBpiAAnCz"
      },
      "source": [
        "В любом случае, у Вас должен появиться объект `image_array`.  \n",
        "Распечатаем его на экране:"
      ]
    },
    {
      "cell_type": "code",
      "metadata": {
        "id": "rFyaqymrAnCz"
      },
      "source": [
        "plt.imshow(image_array);"
      ],
      "execution_count": null,
      "outputs": []
    },
    {
      "cell_type": "code",
      "metadata": {
        "id": "qCsVg0eyAnC0"
      },
      "source": [
        "# Ваш код здесь"
      ],
      "execution_count": null,
      "outputs": []
    },
    {
      "cell_type": "code",
      "metadata": {
        "id": "2ZKFaVhlAnC1"
      },
      "source": [
        "# Здесь выведите размерность нового массива"
      ],
      "execution_count": null,
      "outputs": []
    },
    {
      "cell_type": "code",
      "metadata": {
        "id": "qHVVnI5KAnC1"
      },
      "source": [
        ""
      ],
      "execution_count": null,
      "outputs": []
    }
  ]
}