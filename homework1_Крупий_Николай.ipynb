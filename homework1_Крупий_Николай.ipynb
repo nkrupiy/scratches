{
  "nbformat": 4,
  "nbformat_minor": 0,
  "metadata": {
    "anaconda-cloud": {},
    "kernelspec": {
      "display_name": "Python 3",
      "language": "python",
      "name": "python3"
    },
    "language_info": {
      "codemirror_mode": {
        "name": "ipython",
        "version": 3
      },
      "file_extension": ".py",
      "mimetype": "text/x-python",
      "name": "python",
      "nbconvert_exporter": "python",
      "pygments_lexer": "ipython3",
      "version": "3.5.2"
    },
    "colab": {
      "name": "homework1_Крупий_Николай.ipynb",
      "provenance": [],
      "collapsed_sections": [],
      "include_colab_link": true
    }
  },
  "cells": [
    {
      "cell_type": "markdown",
      "metadata": {
        "id": "view-in-github",
        "colab_type": "text"
      },
      "source": [
        "<a href=\"https://colab.research.google.com/github/nkrupiy/scratches/blob/master/homework1_%D0%9A%D1%80%D1%83%D0%BF%D0%B8%D0%B9_%D0%9D%D0%B8%D0%BA%D0%BE%D0%BB%D0%B0%D0%B9.ipynb\" target=\"_parent\"><img src=\"https://colab.research.google.com/assets/colab-badge.svg\" alt=\"Open In Colab\"/></a>"
      ]
    },
    {
      "cell_type": "markdown",
      "metadata": {
        "id": "V-DqrxK-AnBi"
      },
      "source": [
        "## Домашнее задание 1\n",
        "### Основы Python и пакет NumPy\n",
        "---\n"
      ]
    },
    {
      "cell_type": "code",
      "metadata": {
        "id": "3VqwHt5UAnB9"
      },
      "source": [
        "import numpy as np\n",
        "import random\n",
        "import scipy.stats as sps"
      ],
      "execution_count": 1,
      "outputs": []
    },
    {
      "cell_type": "markdown",
      "metadata": {
        "id": "3eOSpcEDAnCF"
      },
      "source": [
        "### Задача 1\n",
        "В первой задаче вам предлагается перемножить две матрицы двумя способами -- без использования пакета ***numpy*** и с ним. Использовать матричное произведение."
      ]
    },
    {
      "cell_type": "code",
      "metadata": {
        "id": "EiOPtQkuAnCJ",
        "colab": {
          "base_uri": "https://localhost:8080/"
        },
        "outputId": "b337e1d4-b6f0-4833-e0fe-336e2f209768"
      },
      "source": [
        "# Для генерации матриц используем фукнцию random -- она используется для генерации случайных объектов \n",
        "# функция sample создает случайную выборку. В качестве аргумента ей передается кортеж (i,j), здесь i -- число строк,\n",
        "# j -- число столбцов.\n",
        "a = np.random.sample((100,1000))\n",
        "b = np.random.sample((1000,100))\n",
        "a, b\n",
        "# выведите размерность (ранг) каждой матрицы с помощью функции ndim.\n",
        "# Используйте функцию shape, что она вывела?\n",
        "# ========\n",
        "(\n",
        "a.ndim, a.shape,\n",
        "b.ndim, b.shape,\n",
        ")\n",
        "# ========"
      ],
      "execution_count": 9,
      "outputs": [
        {
          "output_type": "execute_result",
          "data": {
            "text/plain": [
              "(2, (100, 1000), 2, (1000, 100))"
            ]
          },
          "metadata": {
            "tags": []
          },
          "execution_count": 9
        }
      ]
    },
    {
      "cell_type": "code",
      "metadata": {
        "id": "oWMcUuWIAnCL"
      },
      "source": [
        "def mult(a, b):\n",
        "    # здесь напишите перемножение матриц без \n",
        "    # использования NumPy и выведите результат "
      ],
      "execution_count": null,
      "outputs": []
    },
    {
      "cell_type": "code",
      "metadata": {
        "id": "4zF2-t_xAnCN",
        "colab": {
          "base_uri": "https://localhost:8080/"
        },
        "outputId": "cc7e7b9c-d473-4079-d8ac-6ea7e77020a3"
      },
      "source": [
        "def np_mult(a, b):\n",
        "    # здесь напишите перемножение матриц с\n",
        "    # использованием NumPy и выведите результат\n",
        "    return np.dot(a, b)\n",
        "np_mult(a, b)"
      ],
      "execution_count": 12,
      "outputs": [
        {
          "output_type": "execute_result",
          "data": {
            "text/plain": [
              "array([[242.95861553, 241.72382657, 239.58706875, ..., 245.18969728,\n",
              "        239.09010938, 236.97191043],\n",
              "       [247.94240877, 248.65590417, 245.39817886, ..., 250.41498039,\n",
              "        240.98097397, 237.09217893],\n",
              "       [256.23114896, 256.86965952, 252.57979652, ..., 260.05754879,\n",
              "        251.35129006, 245.76165546],\n",
              "       ...,\n",
              "       [242.80860331, 251.57358949, 242.71126634, ..., 254.12000515,\n",
              "        245.17691851, 245.54150387],\n",
              "       [252.31052763, 254.79305783, 249.21983881, ..., 259.98395299,\n",
              "        246.80069122, 243.85164493],\n",
              "       [248.9169139 , 245.06328898, 241.21220887, ..., 244.77342533,\n",
              "        241.13565398, 233.09376372]])"
            ]
          },
          "metadata": {
            "tags": []
          },
          "execution_count": 12
        }
      ]
    },
    {
      "cell_type": "code",
      "metadata": {
        "id": "ciq5vZCzAnCQ"
      },
      "source": [
        "# Превратим матрицы в листы, чтобы протестировать функцию без np\n",
        "a_list = [[x for x in row] for row in a]\n",
        "b_list = [[x for x in row] for row in b]\n",
        "a_list, b_list"
      ],
      "execution_count": null,
      "outputs": []
    },
    {
      "cell_type": "code",
      "metadata": {
        "id": "1x7K53ZVAnCS"
      },
      "source": [
        "%%time\n",
        "# засечем время работы функции без NumPy\n",
        "mult(a_list, b_list)"
      ],
      "execution_count": null,
      "outputs": []
    },
    {
      "cell_type": "code",
      "metadata": {
        "id": "q7EMwyBZAnCU"
      },
      "source": [
        "%%time\n",
        "# засечем время работы функции с NumPy\n",
        "np_mult(a, b)"
      ],
      "execution_count": null,
      "outputs": []
    },
    {
      "cell_type": "markdown",
      "metadata": {
        "id": "KG540ywyAnCW"
      },
      "source": [
        "### Задача 2\n",
        "Напишите функцию, которая по данной последовательности $\\{A_i\\}_{i=1}^n$ строит последовательность $S_n$, где $S_k = \\frac{A_1 + ... + A_k}{k}$.  \n",
        "Аналогично -- с помощью библиотеки **NumPy** и без нее. Сравните скорость, объясните результат."
      ]
    },
    {
      "cell_type": "code",
      "metadata": {
        "id": "MfJmDaAqJeqJ"
      },
      "source": [
        "np.array?"
      ],
      "execution_count": 31,
      "outputs": []
    },
    {
      "cell_type": "code",
      "metadata": {
        "id": "Ab5-WegPAnCY",
        "colab": {
          "base_uri": "https://localhost:8080/"
        },
        "outputId": "d6a1433a-2abf-4d05-bfe9-037d1c4e96c8"
      },
      "source": [
        "# функция, решающая задачу с помощью NumPy\n",
        "def sec_av(A):\n",
        "    # Ваш код здесь\n",
        "    A = np.array(A)\n",
        "    n = len(A)\n",
        "    # print(f\"{{Ai}}[i=1:n={n}] =\", A)\n",
        "    S = np.array(range(n), float)\n",
        "    for k in range(1, n+1):\n",
        "        sum_A1k = 0\n",
        "        for i in range(k): sum_A1k += A[i]\n",
        "        S[i] = sum_A1k / k\n",
        "    return S\n",
        "\n",
        "A = [1, 2, 3]\n",
        "A_list = list(A)\n",
        "\n",
        "A_list \\\n",
        ", sec_av(A_list)"
      ],
      "execution_count": 50,
      "outputs": [
        {
          "output_type": "execute_result",
          "data": {
            "text/plain": [
              "([1, 2, 3], array([1. , 1.5, 2. ]))"
            ]
          },
          "metadata": {
            "tags": []
          },
          "execution_count": 50
        }
      ]
    },
    {
      "cell_type": "code",
      "metadata": {
        "id": "6nrrMn0zAnCe",
        "colab": {
          "base_uri": "https://localhost:8080/"
        },
        "outputId": "c50c9556-2532-494a-a024-54df39d39de6"
      },
      "source": [
        "# функция без NumPy\n",
        "def stupid_sec_av(A):\n",
        "    # Ваш код здесь\n",
        "    n = len(A)\n",
        "    # print(f\"{{Ai}}[i=1:n={n}] =\", A)\n",
        "    S = []\n",
        "    for k in range(1, n+1):\n",
        "        sum_A1k = 0\n",
        "        for i in range(k): sum_A1k += A[i]\n",
        "        S += [sum_A1k / k]\n",
        "    return S\n",
        "\n",
        "# A = sps.uniform.rvs(size=3) #10 ** 6) \n",
        "A = [1, 2, 3]\n",
        "A_list = list(A)\n",
        "\n",
        "A_list \\\n",
        ", stupid_sec_av(A_list)"
      ],
      "execution_count": 51,
      "outputs": [
        {
          "output_type": "execute_result",
          "data": {
            "text/plain": [
              "([1, 2, 3], [1.0, 1.5, 2.0])"
            ]
          },
          "metadata": {
            "tags": []
          },
          "execution_count": 51
        }
      ]
    },
    {
      "cell_type": "code",
      "metadata": {
        "id": "XusV2zV_FJjr"
      },
      "source": [
        "e = 6\n",
        "\n",
        "# зададим некоторую последовательность и проверим ее на ваших функциях. \n",
        "# Первая функция должна работать ~ в 50 раз быстрее\n",
        "A = sps.uniform.rvs(size=10 ** e) \n",
        "A_list = list(A)\n",
        "\n",
        "%time S1 = sec_av(A)\n",
        "%time S2 = stupid_sec_av(A_list)\n",
        "#проверим корректность:\n",
        "np.abs(S1 - S2).sum()\n",
        "# S2"
      ],
      "execution_count": null,
      "outputs": []
    },
    {
      "cell_type": "markdown",
      "metadata": {
        "id": "OZ_lfq_9AnCf"
      },
      "source": [
        "### Задача 3\n",
        "\n",
        "Пусть задан некоторый массив $X$. Надо построить новый массив, где все элементы с нечетными индексами требуется заменить на число $a$ (если оно не указано, то на 1). Все элементы с четными индексами исходного массива нужно возвести в куб и записать в обратном порядке относительно позиций этих элементов. Массив $X$ при этом должен остаться без изменений. В конце требуется слить (конкатенировать) массив X с преобразованным X и вывести в обратном порядке. "
      ]
    },
    {
      "cell_type": "code",
      "metadata": {
        "id": "mUY2nCIcSC6o"
      },
      "source": [
        "Y = np.array([None] * len(X), float)\n",
        "# Y.sort_values?\n",
        "np.concatenate?"
      ],
      "execution_count": 95,
      "outputs": []
    },
    {
      "cell_type": "code",
      "metadata": {
        "colab": {
          "base_uri": "https://localhost:8080/"
        },
        "id": "Ssq94POTWCXc",
        "outputId": "102d8932-1f91-4487-8676-8759462a768c"
      },
      "source": [
        "# a = np.array([[1, 2], [3, 4]], float)\n",
        "# b = np.array([[5, 6], [7,8]], float)\n",
        "a = np.array([1, 2, 3, 4], float)\n",
        "b = np.array([5, 6, 7, 8], float)\n",
        "np.concatenate((a,b)), \\\n",
        "a.shape, b.shape, "
      ],
      "execution_count": 91,
      "outputs": [
        {
          "output_type": "execute_result",
          "data": {
            "text/plain": [
              "(array([1., 2., 3., 4., 5., 6., 7., 8.]), (4,), (4,))"
            ]
          },
          "metadata": {
            "tags": []
          },
          "execution_count": 91
        }
      ]
    },
    {
      "cell_type": "code",
      "metadata": {
        "id": "aDovbOB_Y75s"
      },
      "source": [
        "X = [0, 1, 2, 3]"
      ],
      "execution_count": 110,
      "outputs": []
    },
    {
      "cell_type": "code",
      "metadata": {
        "id": "kyV1yX16AnCg",
        "colab": {
          "base_uri": "https://localhost:8080/"
        },
        "outputId": "f212fa1f-5969-4de0-8ddb-3a306ec23be8"
      },
      "source": [
        "# функция, решающая задачу с помощью NumPy\n",
        "def transformation(X, a=1):\n",
        "    # Ваш код здесь\n",
        "    X = np.array(X)\n",
        "    Y = np.array([0] * len(X))\n",
        "    for i in range(len(X)):\n",
        "        Y[-i-1] = X[i]**3 if i % 2 else a\n",
        "    # Z = np.concatenate((X, Y))\n",
        "    return np.concatenate((X, Y))[::-1]\n",
        "# X, \\ \n",
        "transformation(X, a=1)"
      ],
      "execution_count": 113,
      "outputs": [
        {
          "output_type": "execute_result",
          "data": {
            "text/plain": [
              "array([ 1,  1,  1, 27,  3,  2,  1,  0])"
            ]
          },
          "metadata": {
            "tags": []
          },
          "execution_count": 113
        }
      ]
    },
    {
      "cell_type": "code",
      "metadata": {
        "id": "BTL9O905AnCh",
        "colab": {
          "base_uri": "https://localhost:8080/"
        },
        "outputId": "afb72e14-0f5a-4270-95c9-15e28ba58291"
      },
      "source": [
        "# функция, решающая задачу  без NumPy\n",
        "def stupid_transformation(X, a=1):\n",
        "    # Ваш код здесь\n",
        "    Y = [None] * len(X)\n",
        "    for i, item in enumerate(X):\n",
        "        # print(i % 2)\n",
        "        Y[-i-1] = item**3 if i % 2 else a\n",
        "    # Y = X + Y\n",
        "    # Y.sort(reverse=True)\n",
        "    return (X + Y)[::-1]\n",
        "# X, \\\n",
        "stupid_transformation(X, a=1)    "
      ],
      "execution_count": 111,
      "outputs": [
        {
          "output_type": "execute_result",
          "data": {
            "text/plain": [
              "[1, 1, 1, 27, 3, 2, 1, 0]"
            ]
          },
          "metadata": {
            "tags": []
          },
          "execution_count": 111
        }
      ]
    },
    {
      "cell_type": "code",
      "metadata": {
        "id": "lWoSVC-ZAnCj",
        "colab": {
          "base_uri": "https://localhost:8080/"
        },
        "outputId": "725ecdf9-5dd4-4046-af2c-7c55d6d61d0f"
      },
      "source": [
        "X = sps.uniform.rvs(size=10 ** 3)\n",
        "X_list = list(X)\n",
        "# здесь код эффективнее примерно в 20 раз. \n",
        "# если Вы вдруг соберетесь печатать массив без np -- лучше сначала посмотрите на его размер\n",
        "%time S1 = transformation(X)\n",
        "%time S2 = stupid_transformation(X_list)\n",
        "# проверим корректность:\n",
        "print(np.abs(S1 - S2).sum())"
      ],
      "execution_count": 116,
      "outputs": [
        {
          "output_type": "stream",
          "text": [
            "CPU times: user 1.13 ms, sys: 0 ns, total: 1.13 ms\n",
            "Wall time: 1.64 ms\n",
            "CPU times: user 535 µs, sys: 0 ns, total: 535 µs\n",
            "Wall time: 539 µs\n",
            "130.1841835762673\n"
          ],
          "name": "stdout"
        }
      ]
    },
    {
      "cell_type": "markdown",
      "metadata": {
        "id": "Vtf0ueIPAnCk"
      },
      "source": [
        "Почему методы ***numpy*** оказываются эффективнее?"
      ]
    },
    {
      "cell_type": "code",
      "metadata": {
        "id": "1amUDE4FAnCm"
      },
      "source": [
        "# Ваш ответ"
      ],
      "execution_count": null,
      "outputs": []
    },
    {
      "cell_type": "markdown",
      "metadata": {
        "id": "kT4ebTYXAnCn"
      },
      "source": [
        "## Дополнительные задачи"
      ]
    },
    {
      "cell_type": "markdown",
      "metadata": {
        "id": "NMwFLvrjAnCo"
      },
      "source": [
        "Дополнительные задачи подразумевают, что Вы самостоятельно разберётесь в некоторых функциях ***numpy***, чтобы их сделать, но в то же время не являются обязательными."
      ]
    },
    {
      "cell_type": "markdown",
      "metadata": {
        "id": "HBR3J8MTAnCp"
      },
      "source": [
        "### Задача 4*"
      ]
    },
    {
      "cell_type": "markdown",
      "metadata": {
        "id": "GzD730GYAnCp"
      },
      "source": [
        "Дана функция двух переменных: $f(x, y) = sin(x)cos(y)$ (это просто такой красивый 3D-график), а также дана функция для отрисовки $f(x, y)$ (`draw_f()`), которая принимает на вход двумерную сетку, на которой будет вычисляться функция.  \n",
        "\n",
        "Вам нужно разобраться в том, как строить такие сетки (подсказка - это одна конкретная функция ***numpy***), и подать такую сетку на вход функции отрисовки."
      ]
    },
    {
      "cell_type": "code",
      "metadata": {
        "id": "zg-T3AhYAnCr"
      },
      "source": [
        "from matplotlib import pyplot as plt\n",
        "from mpl_toolkits.mplot3d import Axes3D\n",
        "%matplotlib inline\n",
        "\n",
        "def f(x, y):\n",
        "    '''Функция двух переменных'''\n",
        "    return np.sin(x) * np.cos(y)\n",
        "\n",
        "def draw_f(grid_x, grid_y):\n",
        "    '''Функция отрисовки функции f(x, y)'''\n",
        "    fig = plt.figure(figsize=(10, 8))\n",
        "    ax = Axes3D(fig)\n",
        "    ax.plot_surface(grid_x, grid_y, f(grid_x, grid_y), cmap='inferno')\n",
        "    plt.show()"
      ],
      "execution_count": null,
      "outputs": []
    },
    {
      "cell_type": "code",
      "metadata": {
        "id": "TaPm7p02AnCs"
      },
      "source": [
        "grid_x, grid_y = # Ваш ответ\n",
        "\n",
        "draw_f(grid_x, grid_y)"
      ],
      "execution_count": null,
      "outputs": []
    },
    {
      "cell_type": "markdown",
      "metadata": {
        "id": "A0tB29bnAnCt"
      },
      "source": [
        "### Задача 5*"
      ]
    },
    {
      "cell_type": "markdown",
      "metadata": {
        "id": "5HHTDOGcAnCu"
      },
      "source": [
        "Вам дана картинка. При загрузке её размерность равна 3: **(w, h, num_channels)**, где **w** - ширина картинки в пикселях, **h** - высота картинки в пикселях, **num_channels** - количество каналов *(R, G, B, alpha)*.\n",
        "\n",
        "Вам нужно \"развернуть\" картинку в одномерный массив размера w \\* h \\* num_channels, написав **одну строку кода**."
      ]
    },
    {
      "cell_type": "code",
      "metadata": {
        "id": "ea499QVlAnCv"
      },
      "source": [
        "from matplotlib import pyplot as plt\n",
        "%matplotlib inline"
      ],
      "execution_count": null,
      "outputs": []
    },
    {
      "cell_type": "markdown",
      "metadata": {
        "id": "vgIhan88AnCw"
      },
      "source": [
        "Загрузим картинку. Если эта ячейка не сработает, смотрите дальше:"
      ]
    },
    {
      "cell_type": "code",
      "metadata": {
        "id": "r2yazwUYAnCx"
      },
      "source": [
        "path_to_image = './image.jpg'\n",
        "image_array = plt.imread(path_to_image)"
      ],
      "execution_count": null,
      "outputs": []
    },
    {
      "cell_type": "markdown",
      "metadata": {
        "id": "37lULfB7AnCx"
      },
      "source": [
        "Если Вы работаете в google colab или по каким-то еще причинам картинка с диска не загрузилась, можно попробовать загрузить через ссылку в интернете:"
      ]
    },
    {
      "cell_type": "code",
      "metadata": {
        "id": "WojD7wqQAnCy"
      },
      "source": [
        "from PIL import Image\n",
        "import requests\n",
        "from io import BytesIO\n",
        "\n",
        "path_to_image = '__enter your image URL here__'\n",
        "# например: https://github.com/hocop/sberbank_madmo/raw/master/day_1/homework/image.jpg\n",
        "\n",
        "response = requests.get(path_to_image)\n",
        "img = Image.open(BytesIO(response.content))\n",
        "\n",
        "image_array = np.array(img)"
      ],
      "execution_count": null,
      "outputs": []
    },
    {
      "cell_type": "markdown",
      "metadata": {
        "id": "7IfEBpiAAnCz"
      },
      "source": [
        "В любом случае, у Вас должен появиться объект `image_array`.  \n",
        "Распечатаем его на экране:"
      ]
    },
    {
      "cell_type": "code",
      "metadata": {
        "id": "rFyaqymrAnCz"
      },
      "source": [
        "plt.imshow(image_array);"
      ],
      "execution_count": null,
      "outputs": []
    },
    {
      "cell_type": "code",
      "metadata": {
        "id": "qCsVg0eyAnC0"
      },
      "source": [
        "# Ваш код здесь"
      ],
      "execution_count": null,
      "outputs": []
    },
    {
      "cell_type": "code",
      "metadata": {
        "id": "2ZKFaVhlAnC1"
      },
      "source": [
        "# Здесь выведите размерность нового массива"
      ],
      "execution_count": null,
      "outputs": []
    },
    {
      "cell_type": "code",
      "metadata": {
        "id": "qHVVnI5KAnC1"
      },
      "source": [
        ""
      ],
      "execution_count": null,
      "outputs": []
    }
  ]
}